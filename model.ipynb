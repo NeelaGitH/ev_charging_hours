{
 "cells": [
  {
   "cell_type": "code",
   "execution_count": 1,
   "id": "be9e6720-ff16-42cf-85ab-c086a2bcc9d7",
   "metadata": {},
   "outputs": [
    {
     "name": "stdout",
     "output_type": "stream",
     "text": [
      "D:\\Python Files\\Jupyter Notebook\\Projects\\EV\\ev\\Scripts\\python.exe\n"
     ]
    }
   ],
   "source": [
    "import sys\n",
    "print(sys.executable)"
   ]
  },
  {
   "cell_type": "markdown",
   "id": "4abe56a8-9ad4-4f72-af6b-3cd2597eb737",
   "metadata": {},
   "source": [
    "# Charging Hour Prediction"
   ]
  },
  {
   "cell_type": "code",
   "execution_count": 2,
   "id": "b945d828-7bdf-44ed-9dc0-92fd7a1f18b2",
   "metadata": {},
   "outputs": [],
   "source": [
    "import pandas as pd"
   ]
  },
  {
   "cell_type": "code",
   "execution_count": 3,
   "id": "b53c40a2-c3cb-4498-8d08-d2159ae82499",
   "metadata": {},
   "outputs": [],
   "source": [
    "data = pd.read_csv(r\"D:\\Python Files\\Jupyter Notebook\\Projects\\EV\\data\\ev_charging_patterns.csv\")"
   ]
  },
  {
   "cell_type": "code",
   "execution_count": 4,
   "id": "37b9bab9-7e0b-4452-aa05-8adb20d01589",
   "metadata": {},
   "outputs": [
    {
     "data": {
      "text/html": [
       "<div>\n",
       "<style scoped>\n",
       "    .dataframe tbody tr th:only-of-type {\n",
       "        vertical-align: middle;\n",
       "    }\n",
       "\n",
       "    .dataframe tbody tr th {\n",
       "        vertical-align: top;\n",
       "    }\n",
       "\n",
       "    .dataframe thead th {\n",
       "        text-align: right;\n",
       "    }\n",
       "</style>\n",
       "<table border=\"1\" class=\"dataframe\">\n",
       "  <thead>\n",
       "    <tr style=\"text-align: right;\">\n",
       "      <th></th>\n",
       "      <th>User ID</th>\n",
       "      <th>Vehicle Model</th>\n",
       "      <th>Battery Capacity (kWh)</th>\n",
       "      <th>Charging Station ID</th>\n",
       "      <th>Charging Station Location</th>\n",
       "      <th>Charging Start Time</th>\n",
       "      <th>Charging End Time</th>\n",
       "      <th>Energy Consumed (kWh)</th>\n",
       "      <th>Charging Duration (hours)</th>\n",
       "      <th>Charging Rate (kW)</th>\n",
       "      <th>Charging Cost (USD)</th>\n",
       "      <th>Time of Day</th>\n",
       "      <th>Day of Week</th>\n",
       "      <th>State of Charge (Start %)</th>\n",
       "      <th>State of Charge (End %)</th>\n",
       "      <th>Distance Driven (since last charge) (km)</th>\n",
       "      <th>Temperature (°C)</th>\n",
       "      <th>Vehicle Age (years)</th>\n",
       "      <th>Charger Type</th>\n",
       "      <th>User Type</th>\n",
       "    </tr>\n",
       "  </thead>\n",
       "  <tbody>\n",
       "    <tr>\n",
       "      <th>0</th>\n",
       "      <td>User_1</td>\n",
       "      <td>BMW i3</td>\n",
       "      <td>108.463007</td>\n",
       "      <td>Station_391</td>\n",
       "      <td>Houston</td>\n",
       "      <td>2024-01-01 00:00:00</td>\n",
       "      <td>2024-01-01 00:39:00</td>\n",
       "      <td>60.712346</td>\n",
       "      <td>0.591363</td>\n",
       "      <td>36.389181</td>\n",
       "      <td>13.087717</td>\n",
       "      <td>Evening</td>\n",
       "      <td>Tuesday</td>\n",
       "      <td>29.371576</td>\n",
       "      <td>86.119962</td>\n",
       "      <td>293.602111</td>\n",
       "      <td>27.947953</td>\n",
       "      <td>2.0</td>\n",
       "      <td>DC Fast Charger</td>\n",
       "      <td>Commuter</td>\n",
       "    </tr>\n",
       "    <tr>\n",
       "      <th>1</th>\n",
       "      <td>User_2</td>\n",
       "      <td>Hyundai Kona</td>\n",
       "      <td>100.000000</td>\n",
       "      <td>Station_428</td>\n",
       "      <td>San Francisco</td>\n",
       "      <td>2024-01-01 01:00:00</td>\n",
       "      <td>2024-01-01 03:01:00</td>\n",
       "      <td>12.339275</td>\n",
       "      <td>3.133652</td>\n",
       "      <td>30.677735</td>\n",
       "      <td>21.128448</td>\n",
       "      <td>Morning</td>\n",
       "      <td>Monday</td>\n",
       "      <td>10.115778</td>\n",
       "      <td>84.664344</td>\n",
       "      <td>112.112804</td>\n",
       "      <td>14.311026</td>\n",
       "      <td>3.0</td>\n",
       "      <td>Level 1</td>\n",
       "      <td>Casual Driver</td>\n",
       "    </tr>\n",
       "    <tr>\n",
       "      <th>2</th>\n",
       "      <td>User_3</td>\n",
       "      <td>Chevy Bolt</td>\n",
       "      <td>75.000000</td>\n",
       "      <td>Station_181</td>\n",
       "      <td>San Francisco</td>\n",
       "      <td>2024-01-01 02:00:00</td>\n",
       "      <td>2024-01-01 04:48:00</td>\n",
       "      <td>19.128876</td>\n",
       "      <td>2.452653</td>\n",
       "      <td>27.513593</td>\n",
       "      <td>35.667270</td>\n",
       "      <td>Morning</td>\n",
       "      <td>Thursday</td>\n",
       "      <td>6.854604</td>\n",
       "      <td>69.917615</td>\n",
       "      <td>71.799253</td>\n",
       "      <td>21.002002</td>\n",
       "      <td>2.0</td>\n",
       "      <td>Level 2</td>\n",
       "      <td>Commuter</td>\n",
       "    </tr>\n",
       "    <tr>\n",
       "      <th>3</th>\n",
       "      <td>User_4</td>\n",
       "      <td>Hyundai Kona</td>\n",
       "      <td>50.000000</td>\n",
       "      <td>Station_327</td>\n",
       "      <td>Houston</td>\n",
       "      <td>2024-01-01 03:00:00</td>\n",
       "      <td>2024-01-01 06:42:00</td>\n",
       "      <td>79.457824</td>\n",
       "      <td>1.266431</td>\n",
       "      <td>32.882870</td>\n",
       "      <td>13.036239</td>\n",
       "      <td>Evening</td>\n",
       "      <td>Saturday</td>\n",
       "      <td>83.120003</td>\n",
       "      <td>99.624328</td>\n",
       "      <td>199.577785</td>\n",
       "      <td>38.316313</td>\n",
       "      <td>1.0</td>\n",
       "      <td>Level 1</td>\n",
       "      <td>Long-Distance Traveler</td>\n",
       "    </tr>\n",
       "    <tr>\n",
       "      <th>4</th>\n",
       "      <td>User_5</td>\n",
       "      <td>Hyundai Kona</td>\n",
       "      <td>50.000000</td>\n",
       "      <td>Station_108</td>\n",
       "      <td>Los Angeles</td>\n",
       "      <td>2024-01-01 04:00:00</td>\n",
       "      <td>2024-01-01 05:46:00</td>\n",
       "      <td>19.629104</td>\n",
       "      <td>2.019765</td>\n",
       "      <td>10.215712</td>\n",
       "      <td>10.161471</td>\n",
       "      <td>Morning</td>\n",
       "      <td>Saturday</td>\n",
       "      <td>54.258950</td>\n",
       "      <td>63.743786</td>\n",
       "      <td>203.661847</td>\n",
       "      <td>-7.834199</td>\n",
       "      <td>1.0</td>\n",
       "      <td>Level 1</td>\n",
       "      <td>Long-Distance Traveler</td>\n",
       "    </tr>\n",
       "  </tbody>\n",
       "</table>\n",
       "</div>"
      ],
      "text/plain": [
       "  User ID Vehicle Model  Battery Capacity (kWh) Charging Station ID  \\\n",
       "0  User_1        BMW i3              108.463007         Station_391   \n",
       "1  User_2  Hyundai Kona              100.000000         Station_428   \n",
       "2  User_3    Chevy Bolt               75.000000         Station_181   \n",
       "3  User_4  Hyundai Kona               50.000000         Station_327   \n",
       "4  User_5  Hyundai Kona               50.000000         Station_108   \n",
       "\n",
       "  Charging Station Location  Charging Start Time    Charging End Time  \\\n",
       "0                   Houston  2024-01-01 00:00:00  2024-01-01 00:39:00   \n",
       "1             San Francisco  2024-01-01 01:00:00  2024-01-01 03:01:00   \n",
       "2             San Francisco  2024-01-01 02:00:00  2024-01-01 04:48:00   \n",
       "3                   Houston  2024-01-01 03:00:00  2024-01-01 06:42:00   \n",
       "4               Los Angeles  2024-01-01 04:00:00  2024-01-01 05:46:00   \n",
       "\n",
       "   Energy Consumed (kWh)  Charging Duration (hours)  Charging Rate (kW)  \\\n",
       "0              60.712346                   0.591363           36.389181   \n",
       "1              12.339275                   3.133652           30.677735   \n",
       "2              19.128876                   2.452653           27.513593   \n",
       "3              79.457824                   1.266431           32.882870   \n",
       "4              19.629104                   2.019765           10.215712   \n",
       "\n",
       "   Charging Cost (USD) Time of Day Day of Week  State of Charge (Start %)  \\\n",
       "0            13.087717     Evening     Tuesday                  29.371576   \n",
       "1            21.128448     Morning      Monday                  10.115778   \n",
       "2            35.667270     Morning    Thursday                   6.854604   \n",
       "3            13.036239     Evening    Saturday                  83.120003   \n",
       "4            10.161471     Morning    Saturday                  54.258950   \n",
       "\n",
       "   State of Charge (End %)  Distance Driven (since last charge) (km)  \\\n",
       "0                86.119962                                293.602111   \n",
       "1                84.664344                                112.112804   \n",
       "2                69.917615                                 71.799253   \n",
       "3                99.624328                                199.577785   \n",
       "4                63.743786                                203.661847   \n",
       "\n",
       "   Temperature (°C)  Vehicle Age (years)     Charger Type  \\\n",
       "0         27.947953                  2.0  DC Fast Charger   \n",
       "1         14.311026                  3.0          Level 1   \n",
       "2         21.002002                  2.0          Level 2   \n",
       "3         38.316313                  1.0          Level 1   \n",
       "4         -7.834199                  1.0          Level 1   \n",
       "\n",
       "                User Type  \n",
       "0                Commuter  \n",
       "1           Casual Driver  \n",
       "2                Commuter  \n",
       "3  Long-Distance Traveler  \n",
       "4  Long-Distance Traveler  "
      ]
     },
     "execution_count": 4,
     "metadata": {},
     "output_type": "execute_result"
    }
   ],
   "source": [
    "data.head()"
   ]
  },
  {
   "cell_type": "code",
   "execution_count": 5,
   "id": "959d3ec8-6e9f-475e-bf15-8e138460e0fd",
   "metadata": {},
   "outputs": [
    {
     "name": "stdout",
     "output_type": "stream",
     "text": [
      "<class 'pandas.core.frame.DataFrame'>\n",
      "RangeIndex: 1320 entries, 0 to 1319\n",
      "Data columns (total 20 columns):\n",
      " #   Column                                    Non-Null Count  Dtype  \n",
      "---  ------                                    --------------  -----  \n",
      " 0   User ID                                   1320 non-null   object \n",
      " 1   Vehicle Model                             1320 non-null   object \n",
      " 2   Battery Capacity (kWh)                    1320 non-null   float64\n",
      " 3   Charging Station ID                       1320 non-null   object \n",
      " 4   Charging Station Location                 1320 non-null   object \n",
      " 5   Charging Start Time                       1320 non-null   object \n",
      " 6   Charging End Time                         1320 non-null   object \n",
      " 7   Energy Consumed (kWh)                     1254 non-null   float64\n",
      " 8   Charging Duration (hours)                 1320 non-null   float64\n",
      " 9   Charging Rate (kW)                        1254 non-null   float64\n",
      " 10  Charging Cost (USD)                       1320 non-null   float64\n",
      " 11  Time of Day                               1320 non-null   object \n",
      " 12  Day of Week                               1320 non-null   object \n",
      " 13  State of Charge (Start %)                 1320 non-null   float64\n",
      " 14  State of Charge (End %)                   1320 non-null   float64\n",
      " 15  Distance Driven (since last charge) (km)  1254 non-null   float64\n",
      " 16  Temperature (°C)                          1320 non-null   float64\n",
      " 17  Vehicle Age (years)                       1320 non-null   float64\n",
      " 18  Charger Type                              1320 non-null   object \n",
      " 19  User Type                                 1320 non-null   object \n",
      "dtypes: float64(10), object(10)\n",
      "memory usage: 206.4+ KB\n"
     ]
    }
   ],
   "source": [
    "data.info()"
   ]
  },
  {
   "cell_type": "code",
   "execution_count": 6,
   "id": "df830c3c-7827-4613-bfbf-32fa63aadff3",
   "metadata": {},
   "outputs": [
    {
     "name": "stdout",
     "output_type": "stream",
     "text": [
      "Requirement already satisfied: seaborn in d:\\python files\\jupyter notebook\\projects\\ev\\ev\\lib\\site-packages (0.13.2)\n",
      "Requirement already satisfied: numpy!=1.24.0,>=1.20 in d:\\python files\\jupyter notebook\\projects\\ev\\ev\\lib\\site-packages (from seaborn) (2.2.2)\n",
      "Requirement already satisfied: pandas>=1.2 in d:\\python files\\jupyter notebook\\projects\\ev\\ev\\lib\\site-packages (from seaborn) (2.2.3)\n",
      "Requirement already satisfied: matplotlib!=3.6.1,>=3.4 in d:\\python files\\jupyter notebook\\projects\\ev\\ev\\lib\\site-packages (from seaborn) (3.10.0)\n",
      "Requirement already satisfied: contourpy>=1.0.1 in d:\\python files\\jupyter notebook\\projects\\ev\\ev\\lib\\site-packages (from matplotlib!=3.6.1,>=3.4->seaborn) (1.3.1)\n",
      "Requirement already satisfied: cycler>=0.10 in d:\\python files\\jupyter notebook\\projects\\ev\\ev\\lib\\site-packages (from matplotlib!=3.6.1,>=3.4->seaborn) (0.12.1)\n",
      "Requirement already satisfied: fonttools>=4.22.0 in d:\\python files\\jupyter notebook\\projects\\ev\\ev\\lib\\site-packages (from matplotlib!=3.6.1,>=3.4->seaborn) (4.55.8)\n",
      "Requirement already satisfied: kiwisolver>=1.3.1 in d:\\python files\\jupyter notebook\\projects\\ev\\ev\\lib\\site-packages (from matplotlib!=3.6.1,>=3.4->seaborn) (1.4.8)\n",
      "Requirement already satisfied: packaging>=20.0 in d:\\python files\\jupyter notebook\\projects\\ev\\ev\\lib\\site-packages (from matplotlib!=3.6.1,>=3.4->seaborn) (24.2)\n",
      "Requirement already satisfied: pillow>=8 in d:\\python files\\jupyter notebook\\projects\\ev\\ev\\lib\\site-packages (from matplotlib!=3.6.1,>=3.4->seaborn) (11.1.0)\n",
      "Requirement already satisfied: pyparsing>=2.3.1 in d:\\python files\\jupyter notebook\\projects\\ev\\ev\\lib\\site-packages (from matplotlib!=3.6.1,>=3.4->seaborn) (3.2.1)\n",
      "Requirement already satisfied: python-dateutil>=2.7 in d:\\python files\\jupyter notebook\\projects\\ev\\ev\\lib\\site-packages (from matplotlib!=3.6.1,>=3.4->seaborn) (2.9.0.post0)\n",
      "Requirement already satisfied: pytz>=2020.1 in d:\\python files\\jupyter notebook\\projects\\ev\\ev\\lib\\site-packages (from pandas>=1.2->seaborn) (2025.1)\n",
      "Requirement already satisfied: tzdata>=2022.7 in d:\\python files\\jupyter notebook\\projects\\ev\\ev\\lib\\site-packages (from pandas>=1.2->seaborn) (2025.1)\n",
      "Requirement already satisfied: six>=1.5 in d:\\python files\\jupyter notebook\\projects\\ev\\ev\\lib\\site-packages (from python-dateutil>=2.7->matplotlib!=3.6.1,>=3.4->seaborn) (1.17.0)\n"
     ]
    },
    {
     "name": "stderr",
     "output_type": "stream",
     "text": [
      "\n",
      "[notice] A new release of pip is available: 24.3.1 -> 25.0\n",
      "[notice] To update, run: python.exe -m pip install --upgrade pip\n"
     ]
    }
   ],
   "source": [
    "!pip install seaborn"
   ]
  },
  {
   "cell_type": "code",
   "execution_count": 7,
   "id": "e9626f2c-3c6e-4c76-a829-e06e095ed1a6",
   "metadata": {},
   "outputs": [],
   "source": [
    "import seaborn as sns\n",
    "import matplotlib.pyplot as plt"
   ]
  },
  {
   "cell_type": "markdown",
   "id": "8f60f1f8-5c5e-4866-9a84-07ffe0136390",
   "metadata": {},
   "source": [
    "**Vehicle Model**"
   ]
  },
  {
   "cell_type": "code",
   "execution_count": 8,
   "id": "67ab07ea-fd2a-405b-a207-b2009e0708cb",
   "metadata": {},
   "outputs": [
    {
     "data": {
      "text/plain": [
       "Vehicle Model\n",
       "Tesla Model 3    280\n",
       "Hyundai Kona     266\n",
       "Nissan Leaf      260\n",
       "BMW i3           258\n",
       "Chevy Bolt       256\n",
       "Name: count, dtype: int64"
      ]
     },
     "execution_count": 8,
     "metadata": {},
     "output_type": "execute_result"
    }
   ],
   "source": [
    "data[\"Vehicle Model\"].value_counts()"
   ]
  },
  {
   "cell_type": "code",
   "execution_count": 9,
   "id": "7714e6d9-8f0e-427e-a617-72e2abd42762",
   "metadata": {},
   "outputs": [
    {
     "data": {
      "text/plain": [
       "Text(0, 0.5, 'Charging Hours')"
      ]
     },
     "execution_count": 9,
     "metadata": {},
     "output_type": "execute_result"
    },
    {
     "data": {
      "image/png": "[encoded data removed]",
      "text/plain": [
       "<Figure size 1000x500 with 1 Axes>"
      ]
     },
     "metadata": {},
     "output_type": "display_data"
    }
   ],
   "source": [
    "plt.figure(figsize = (10, 5))\n",
    "sns.barplot(data = data, x =\"Vehicle Model\", y = \"Charging Duration (hours)\")\n",
    "plt.title(\"Vehicle Model vs Charging hours\")\n",
    "plt.xlabel(\"Vehicle Model\")\n",
    "plt.ylabel(\"Charging Hours\")"
   ]
  },
  {
   "cell_type": "markdown",
   "id": "a6726909-64f9-4c87-b302-07ff03f38145",
   "metadata": {},
   "source": [
    "**Battery Capacity**"
   ]
  },
  {
   "cell_type": "code",
   "execution_count": 10,
   "id": "23ae9c1d-6dc2-40de-ba23-732783e838df",
   "metadata": {},
   "outputs": [
    {
     "data": {
      "text/plain": [
       "Text(0, 0.5, 'Charging Hours')"
      ]
     },
     "execution_count": 10,
     "metadata": {},
     "output_type": "execute_result"
    },
    {
     "data": {
      "image/png": "[encoded data removed]",
      "text/plain": [
       "<Figure size 1000x500 with 1 Axes>"
      ]
     },
     "metadata": {},
     "output_type": "display_data"
    }
   ],
   "source": [
    "plt.figure(figsize = (10, 5))\n",
    "sns.scatterplot(data = data, x =\"Battery Capacity (kWh)\", y = \"Charging Duration (hours)\")\n",
    "plt.title(\"Battery Capacity (kWh) vs Charging hours\")\n",
    "plt.xlabel(\"Battery Capacity (kWh)\")\n",
    "plt.ylabel(\"Charging Hours\")"
   ]
  },
  {
   "cell_type": "markdown",
   "id": "056fe50e-69e2-4c69-b226-86d5dbea22bf",
   "metadata": {},
   "source": [
    "**Charging Station Location**"
   ]
  },
  {
   "cell_type": "code",
   "execution_count": 11,
   "id": "d1101ee9-b09e-4eee-92ab-6661cd30e833",
   "metadata": {},
   "outputs": [
    {
     "data": {
      "text/plain": [
       "Text(0, 0.5, 'Charging Hours')"
      ]
     },
     "execution_count": 11,
     "metadata": {},
     "output_type": "execute_result"
    },
    {
     "data": {
      "image/png": "[encoded data removed]",
      "text/plain": [
       "<Figure size 1000x500 with 1 Axes>"
      ]
     },
     "metadata": {},
     "output_type": "display_data"
    }
   ],
   "source": [
    "plt.figure(figsize = (10, 5))\n",
    "sns.barplot(data = data, x =\"Charging Station Location\", y = \"Charging Duration (hours)\")\n",
    "plt.title(\"Charging Station Location vs Charging hours\")\n",
    "plt.xlabel(\"Charging Station Location\")\n",
    "plt.ylabel(\"Charging Hours\")"
   ]
  },
  {
   "cell_type": "markdown",
   "id": "d15c97ec-377c-4f4c-84e0-8fe83f30d59c",
   "metadata": {},
   "source": [
    "**Time of Day**"
   ]
  },
  {
   "cell_type": "code",
   "execution_count": 12,
   "id": "f4d614bf-1eea-4e29-835c-76cd1f492c87",
   "metadata": {},
   "outputs": [
    {
     "data": {
      "text/plain": [
       "Text(0, 0.5, 'Charging Hours')"
      ]
     },
     "execution_count": 12,
     "metadata": {},
     "output_type": "execute_result"
    },
    {
     "data": {
      "image/png": "[encoded data removed]",
      "text/plain": [
       "<Figure size 1000x500 with 1 Axes>"
      ]
     },
     "metadata": {},
     "output_type": "display_data"
    }
   ],
   "source": [
    "plt.figure(figsize = (10, 5))\n",
    "sns.barplot(data = data, x =\"Time of Day\", y = \"Charging Duration (hours)\")\n",
    "plt.title(\"Time of Day vs Charging hours\")\n",
    "plt.xlabel(\"Time of Day\")\n",
    "plt.ylabel(\"Charging Hours\")"
   ]
  },
  {
   "cell_type": "markdown",
   "id": "de81c996-c673-4c21-948e-981b6313860a",
   "metadata": {},
   "source": [
    "**State of Charge (End %)**"
   ]
  },
  {
   "cell_type": "code",
   "execution_count": 13,
   "id": "4645f5c6-8c9b-4327-b880-d39d26443c55",
   "metadata": {},
   "outputs": [
    {
     "data": {
      "text/plain": [
       "<Axes: >"
      ]
     },
     "execution_count": 13,
     "metadata": {},
     "output_type": "execute_result"
    },
    {
     "data": {
      "image/png": "[encoded data removed]",
      "text/plain": [
       "<Figure size 640x480 with 1 Axes>"
      ]
     },
     "metadata": {},
     "output_type": "display_data"
    }
   ],
   "source": [
    "data[\"State of Charge (End %)\"].hist()"
   ]
  },
  {
   "cell_type": "code",
   "execution_count": 14,
   "id": "0425252c-4995-4d74-b074-ab6c751eb5f9",
   "metadata": {},
   "outputs": [
    {
     "data": {
      "text/plain": [
       "<Axes: >"
      ]
     },
     "execution_count": 14,
     "metadata": {},
     "output_type": "execute_result"
    },
    {
     "data": {
      "image/png": "[encoded data removed]",
      "text/plain": [
       "<Figure size 640x480 with 1 Axes>"
      ]
     },
     "metadata": {},
     "output_type": "display_data"
    }
   ],
   "source": [
    "data[\"State of Charge (Start %)\"].hist()"
   ]
  },
  {
   "cell_type": "markdown",
   "id": "4015393c-15a9-42b9-8225-ec0b6838a6b9",
   "metadata": {},
   "source": [
    "**Note:** Outliers in State of Charge "
   ]
  },
  {
   "cell_type": "markdown",
   "id": "f0bc36f8-f7e1-4519-9da2-4ff1f99ddfad",
   "metadata": {},
   "source": [
    "**Distance Driven (since last charge) (km)**"
   ]
  },
  {
   "cell_type": "code",
   "execution_count": 15,
   "id": "8f48dd54-6e1a-402c-a427-eb4427d4e79a",
   "metadata": {},
   "outputs": [
    {
     "data": {
      "text/plain": [
       "Text(0, 0.5, 'Charging Hours')"
      ]
     },
     "execution_count": 15,
     "metadata": {},
     "output_type": "execute_result"
    },
    {
     "data": {
      "image/png": "[encoded data removed]",
      "text/plain": [
       "<Figure size 1000x500 with 1 Axes>"
      ]
     },
     "metadata": {},
     "output_type": "display_data"
    }
   ],
   "source": [
    "plt.figure(figsize = (10, 5))\n",
    "sns.scatterplot(data = data, x =\"Distance Driven (since last charge) (km)\", y = \"Charging Duration (hours)\")\n",
    "plt.title(\"Distance Driven (since last charge) (km) vs Charging hours\")\n",
    "plt.xlabel(\"Distance Driven (since last charge) (km)\")\n",
    "plt.ylabel(\"Charging Hours\")"
   ]
  },
  {
   "cell_type": "markdown",
   "id": "d2108362-d95b-44bb-a630-37e293346c0e",
   "metadata": {},
   "source": [
    "**Temperature (°C)**"
   ]
  },
  {
   "cell_type": "code",
   "execution_count": 16,
   "id": "86d0db2f-6413-455d-a2b7-6151e5b642f3",
   "metadata": {},
   "outputs": [
    {
     "data": {
      "text/plain": [
       "Text(0, 0.5, 'Charging Hours')"
      ]
     },
     "execution_count": 16,
     "metadata": {},
     "output_type": "execute_result"
    },
    {
     "data": {
      "image/png": "[encoded data removed]",
      "text/plain": [
       "<Figure size 1000x500 with 1 Axes>"
      ]
     },
     "metadata": {},
     "output_type": "display_data"
    }
   ],
   "source": [
    "plt.figure(figsize = (10, 5))\n",
    "sns.scatterplot(data = data, x =\"Temperature (°C)\", y = \"Charging Duration (hours)\")\n",
    "plt.title(\"Temperature (°C) vs Charging hours\")\n",
    "plt.xlabel(\"Temperature (°C)\")\n",
    "plt.ylabel(\"Charging Hours\")"
   ]
  },
  {
   "cell_type": "markdown",
   "id": "2fdafefc-55af-4535-950d-cabd73b283f0",
   "metadata": {},
   "source": [
    "**Vehicle Age (years)**"
   ]
  },
  {
   "cell_type": "code",
   "execution_count": 17,
   "id": "f6d8deaa-f9d2-474c-9f2b-e29740ab8526",
   "metadata": {},
   "outputs": [
    {
     "data": {
      "text/plain": [
       "Text(0, 0.5, 'Charging Hours')"
      ]
     },
     "execution_count": 17,
     "metadata": {},
     "output_type": "execute_result"
    },
    {
     "data": {
      "image/png": "[encoded data removed]",
      "text/plain": [
       "<Figure size 1000x500 with 1 Axes>"
      ]
     },
     "metadata": {},
     "output_type": "display_data"
    }
   ],
   "source": [
    "plt.figure(figsize = (10, 5))\n",
    "sns.scatterplot(data = data, x =\"Vehicle Age (years)\", y = \"Charging Duration (hours)\")\n",
    "plt.title(\"Vehicle Age (years) vs Charging hours\")\n",
    "plt.xlabel(\"Vehicle Age (years)\")\n",
    "plt.ylabel(\"Charging Hours\")"
   ]
  },
  {
   "cell_type": "markdown",
   "id": "59bd17c1-1d00-489b-8f6f-93569a8defce",
   "metadata": {},
   "source": [
    "**Charger Type**"
   ]
  },
  {
   "cell_type": "code",
   "execution_count": 18,
   "id": "b60c5ac4-4839-4d39-9e41-a01230032630",
   "metadata": {},
   "outputs": [
    {
     "data": {
      "text/plain": [
       "Text(0, 0.5, 'Charging Hours')"
      ]
     },
     "execution_count": 18,
     "metadata": {},
     "output_type": "execute_result"
    },
    {
     "data": {
      "image/png": "[encoded data removed]",
      "text/plain": [
       "<Figure size 1000x500 with 1 Axes>"
      ]
     },
     "metadata": {},
     "output_type": "display_data"
    }
   ],
   "source": [
    "plt.figure(figsize = (10, 5))\n",
    "sns.barplot(data = data, x =\"Charger Type\", y = \"Charging Duration (hours)\")\n",
    "plt.title(\"Charger Type vs Charging hours\")\n",
    "plt.xlabel(\"Charger Type\")\n",
    "plt.ylabel(\"Charging Hours\")"
   ]
  },
  {
   "cell_type": "markdown",
   "id": "90b14570-bf28-4986-b06c-5a598789aef1",
   "metadata": {},
   "source": [
    "COLUMNS TO USE FOR THIS TASK:\n",
    "- Vehicle Model\n",
    "- Charging Station Location\n",
    "- Charging Duration (hours)\n",
    "- Time of Day\n",
    "- State of Charge (Start %)\n",
    "- State of Charge (End %)\n",
    "- Temperature (°C)\t\n",
    "- Charger Type"
   ]
  },
  {
   "cell_type": "code",
   "execution_count": 19,
   "id": "e99077d0-4d90-422c-9c02-0d7c83f000a3",
   "metadata": {},
   "outputs": [],
   "source": [
    "data_new = data[[\"Vehicle Model\",\n",
    "\"Charging Station Location\",\n",
    "\"Charging Duration (hours)\",\n",
    "\"Time of Day\",\n",
    "\"State of Charge (Start %)\",\n",
    "\"State of Charge (End %)\",\n",
    "\"Temperature (°C)\",\n",
    "\"Charger Type\"]]"
   ]
  },
  {
   "cell_type": "code",
   "execution_count": 20,
   "id": "3e5809de-950a-4fd6-95c1-ac636a595cef",
   "metadata": {},
   "outputs": [
    {
     "data": {
      "text/html": [
       "<div>\n",
       "<style scoped>\n",
       "    .dataframe tbody tr th:only-of-type {\n",
       "        vertical-align: middle;\n",
       "    }\n",
       "\n",
       "    .dataframe tbody tr th {\n",
       "        vertical-align: top;\n",
       "    }\n",
       "\n",
       "    .dataframe thead th {\n",
       "        text-align: right;\n",
       "    }\n",
       "</style>\n",
       "<table border=\"1\" class=\"dataframe\">\n",
       "  <thead>\n",
       "    <tr style=\"text-align: right;\">\n",
       "      <th></th>\n",
       "      <th>Vehicle Model</th>\n",
       "      <th>Charging Station Location</th>\n",
       "      <th>Charging Duration (hours)</th>\n",
       "      <th>Time of Day</th>\n",
       "      <th>State of Charge (Start %)</th>\n",
       "      <th>State of Charge (End %)</th>\n",
       "      <th>Temperature (°C)</th>\n",
       "      <th>Charger Type</th>\n",
       "    </tr>\n",
       "  </thead>\n",
       "  <tbody>\n",
       "    <tr>\n",
       "      <th>0</th>\n",
       "      <td>BMW i3</td>\n",
       "      <td>Houston</td>\n",
       "      <td>0.591363</td>\n",
       "      <td>Evening</td>\n",
       "      <td>29.371576</td>\n",
       "      <td>86.119962</td>\n",
       "      <td>27.947953</td>\n",
       "      <td>DC Fast Charger</td>\n",
       "    </tr>\n",
       "    <tr>\n",
       "      <th>1</th>\n",
       "      <td>Hyundai Kona</td>\n",
       "      <td>San Francisco</td>\n",
       "      <td>3.133652</td>\n",
       "      <td>Morning</td>\n",
       "      <td>10.115778</td>\n",
       "      <td>84.664344</td>\n",
       "      <td>14.311026</td>\n",
       "      <td>Level 1</td>\n",
       "    </tr>\n",
       "    <tr>\n",
       "      <th>2</th>\n",
       "      <td>Chevy Bolt</td>\n",
       "      <td>San Francisco</td>\n",
       "      <td>2.452653</td>\n",
       "      <td>Morning</td>\n",
       "      <td>6.854604</td>\n",
       "      <td>69.917615</td>\n",
       "      <td>21.002002</td>\n",
       "      <td>Level 2</td>\n",
       "    </tr>\n",
       "    <tr>\n",
       "      <th>3</th>\n",
       "      <td>Hyundai Kona</td>\n",
       "      <td>Houston</td>\n",
       "      <td>1.266431</td>\n",
       "      <td>Evening</td>\n",
       "      <td>83.120003</td>\n",
       "      <td>99.624328</td>\n",
       "      <td>38.316313</td>\n",
       "      <td>Level 1</td>\n",
       "    </tr>\n",
       "    <tr>\n",
       "      <th>4</th>\n",
       "      <td>Hyundai Kona</td>\n",
       "      <td>Los Angeles</td>\n",
       "      <td>2.019765</td>\n",
       "      <td>Morning</td>\n",
       "      <td>54.258950</td>\n",
       "      <td>63.743786</td>\n",
       "      <td>-7.834199</td>\n",
       "      <td>Level 1</td>\n",
       "    </tr>\n",
       "  </tbody>\n",
       "</table>\n",
       "</div>"
      ],
      "text/plain": [
       "  Vehicle Model Charging Station Location  Charging Duration (hours)  \\\n",
       "0        BMW i3                   Houston                   0.591363   \n",
       "1  Hyundai Kona             San Francisco                   3.133652   \n",
       "2    Chevy Bolt             San Francisco                   2.452653   \n",
       "3  Hyundai Kona                   Houston                   1.266431   \n",
       "4  Hyundai Kona               Los Angeles                   2.019765   \n",
       "\n",
       "  Time of Day  State of Charge (Start %)  State of Charge (End %)  \\\n",
       "0     Evening                  29.371576                86.119962   \n",
       "1     Morning                  10.115778                84.664344   \n",
       "2     Morning                   6.854604                69.917615   \n",
       "3     Evening                  83.120003                99.624328   \n",
       "4     Morning                  54.258950                63.743786   \n",
       "\n",
       "   Temperature (°C)     Charger Type  \n",
       "0         27.947953  DC Fast Charger  \n",
       "1         14.311026          Level 1  \n",
       "2         21.002002          Level 2  \n",
       "3         38.316313          Level 1  \n",
       "4         -7.834199          Level 1  "
      ]
     },
     "execution_count": 20,
     "metadata": {},
     "output_type": "execute_result"
    }
   ],
   "source": [
    "data_new.head()"
   ]
  },
  {
   "cell_type": "code",
   "execution_count": 21,
   "id": "d7b1e378-193f-4b01-a1b9-dc294ed8934b",
   "metadata": {},
   "outputs": [
    {
     "name": "stdout",
     "output_type": "stream",
     "text": [
      "<class 'pandas.core.frame.DataFrame'>\n",
      "RangeIndex: 1320 entries, 0 to 1319\n",
      "Data columns (total 8 columns):\n",
      " #   Column                     Non-Null Count  Dtype  \n",
      "---  ------                     --------------  -----  \n",
      " 0   Vehicle Model              1320 non-null   object \n",
      " 1   Charging Station Location  1320 non-null   object \n",
      " 2   Charging Duration (hours)  1320 non-null   float64\n",
      " 3   Time of Day                1320 non-null   object \n",
      " 4   State of Charge (Start %)  1320 non-null   float64\n",
      " 5   State of Charge (End %)    1320 non-null   float64\n",
      " 6   Temperature (°C)           1320 non-null   float64\n",
      " 7   Charger Type               1320 non-null   object \n",
      "dtypes: float64(4), object(4)\n",
      "memory usage: 82.6+ KB\n"
     ]
    }
   ],
   "source": [
    "data_new.info()"
   ]
  },
  {
   "cell_type": "code",
   "execution_count": 22,
   "id": "eb9c54e2-f663-4b41-8d8f-dff384cd1618",
   "metadata": {},
   "outputs": [
    {
     "data": {
      "text/plain": [
       "array(['DC Fast Charger', 'Level 1', 'Level 2'], dtype=object)"
      ]
     },
     "execution_count": 22,
     "metadata": {},
     "output_type": "execute_result"
    }
   ],
   "source": [
    "data_new[\"Charger Type\"].unique()"
   ]
  },
  {
   "cell_type": "markdown",
   "id": "f974df39-628c-4c16-824b-c6127cb17dfa",
   "metadata": {},
   "source": [
    "## TRAIN-TEST SPLIT"
   ]
  },
  {
   "cell_type": "code",
   "execution_count": 23,
   "id": "6f096588-3b71-4fea-924d-136ed632ffc2",
   "metadata": {},
   "outputs": [],
   "source": [
    "from sklearn.model_selection import train_test_split"
   ]
  },
  {
   "cell_type": "code",
   "execution_count": 24,
   "id": "e5982681-719c-4df1-a54f-d52a81fc0e1e",
   "metadata": {},
   "outputs": [],
   "source": [
    "train, test = train_test_split(data_new, test_size = 0.2, random_state = 42)"
   ]
  },
  {
   "cell_type": "code",
   "execution_count": 25,
   "id": "0e879e47-1989-4d83-99a6-acbf2c1d3039",
   "metadata": {},
   "outputs": [
    {
     "data": {
      "text/plain": [
       "(1056, 8)"
      ]
     },
     "execution_count": 25,
     "metadata": {},
     "output_type": "execute_result"
    }
   ],
   "source": [
    "train.shape"
   ]
  },
  {
   "cell_type": "code",
   "execution_count": 26,
   "id": "4ee16309-0a85-40c5-8b4f-5f78eff3ad96",
   "metadata": {},
   "outputs": [
    {
     "data": {
      "text/plain": [
       "(264, 8)"
      ]
     },
     "execution_count": 26,
     "metadata": {},
     "output_type": "execute_result"
    }
   ],
   "source": [
    "test.shape"
   ]
  },
  {
   "cell_type": "code",
   "execution_count": 27,
   "id": "bea2f692-61f1-4765-86be-f0133115c146",
   "metadata": {},
   "outputs": [],
   "source": [
    "ev = train.copy()"
   ]
  },
  {
   "cell_type": "code",
   "execution_count": 28,
   "id": "5657221b-68f5-4b99-9a31-7e1398a2e480",
   "metadata": {},
   "outputs": [
    {
     "data": {
      "text/plain": [
       "(1056, 8)"
      ]
     },
     "execution_count": 28,
     "metadata": {},
     "output_type": "execute_result"
    }
   ],
   "source": [
    "ev.shape"
   ]
  },
  {
   "cell_type": "markdown",
   "id": "2f6fe531-6d41-4801-8f93-bcc24df9dab2",
   "metadata": {},
   "source": [
    "## Preparing Data for ML model"
   ]
  },
  {
   "cell_type": "markdown",
   "id": "97ffcb5b-54c3-49d7-90c4-23120c6c5779",
   "metadata": {},
   "source": [
    "**Checking for Noisy Data in Temperature**"
   ]
  },
  {
   "cell_type": "code",
   "execution_count": 29,
   "id": "63744783-bb89-490a-8c92-48235bdc7b8e",
   "metadata": {},
   "outputs": [
    {
     "data": {
      "text/plain": [
       "<Axes: >"
      ]
     },
     "execution_count": 29,
     "metadata": {},
     "output_type": "execute_result"
    },
    {
     "data": {
      "image/png": "[encoded data removed]",
      "text/plain": [
       "<Figure size 640x480 with 1 Axes>"
      ]
     },
     "metadata": {},
     "output_type": "display_data"
    }
   ],
   "source": [
    "ev[\"Temperature (°C)\"].hist()"
   ]
  },
  {
   "cell_type": "code",
   "execution_count": 30,
   "id": "d8a78ab6-708a-4685-95d2-27e0575b2797",
   "metadata": {},
   "outputs": [
    {
     "data": {
      "text/plain": [
       "np.int64(204)"
      ]
     },
     "execution_count": 30,
     "metadata": {},
     "output_type": "execute_result"
    }
   ],
   "source": [
    "ev[ev[\"Temperature (°C)\"] < 0][\"Temperature (°C)\"].count()"
   ]
  },
  {
   "cell_type": "code",
   "execution_count": 31,
   "id": "c88e7811-ee26-4185-a08d-9e88cb94c264",
   "metadata": {},
   "outputs": [
    {
     "data": {
      "text/plain": [
       "np.int64(2)"
      ]
     },
     "execution_count": 31,
     "metadata": {},
     "output_type": "execute_result"
    }
   ],
   "source": [
    "ev[ev[\"Temperature (°C)\"] > 60][\"Temperature (°C)\"].count()"
   ]
  },
  {
   "cell_type": "markdown",
   "id": "575b7d24-c9f0-4c7a-8700-2ad0aaf61b1e",
   "metadata": {},
   "source": [
    "**Checking for Noisy Data in State of Charge (Start %)**"
   ]
  },
  {
   "cell_type": "code",
   "execution_count": 32,
   "id": "3c155b08-02ab-441b-abbc-7ba995845a85",
   "metadata": {},
   "outputs": [
    {
     "data": {
      "text/plain": [
       "np.int64(0)"
      ]
     },
     "execution_count": 32,
     "metadata": {},
     "output_type": "execute_result"
    }
   ],
   "source": [
    "ev[ev[\"State of Charge (Start %)\"] < 0][\"State of Charge (Start %)\"].count()"
   ]
  },
  {
   "cell_type": "code",
   "execution_count": 33,
   "id": "e07fe880-0d79-446f-9d6b-112e31d6eaa5",
   "metadata": {},
   "outputs": [
    {
     "data": {
      "text/plain": [
       "np.int64(5)"
      ]
     },
     "execution_count": 33,
     "metadata": {},
     "output_type": "execute_result"
    }
   ],
   "source": [
    "ev[ev[\"State of Charge (Start %)\"] > 100][\"State of Charge (Start %)\"].count()"
   ]
  },
  {
   "cell_type": "markdown",
   "id": "f2d15d45-d564-4400-ae25-395f402ad6d0",
   "metadata": {},
   "source": [
    "**Dropping the noisy data**"
   ]
  },
  {
   "cell_type": "code",
   "execution_count": 34,
   "id": "e8751fdb-3208-4fb5-88d4-e3b848260e7b",
   "metadata": {},
   "outputs": [
    {
     "data": {
      "text/plain": [
       "Vehicle Model                1051\n",
       "Charging Station Location    1051\n",
       "Charging Duration (hours)    1051\n",
       "Time of Day                  1051\n",
       "State of Charge (Start %)    1051\n",
       "State of Charge (End %)      1051\n",
       "Temperature (°C)             1051\n",
       "Charger Type                 1051\n",
       "dtype: int64"
      ]
     },
     "execution_count": 34,
     "metadata": {},
     "output_type": "execute_result"
    }
   ],
   "source": [
    "ev[ev[\"State of Charge (Start %)\"] <= 100].count()"
   ]
  },
  {
   "cell_type": "code",
   "execution_count": 35,
   "id": "aee542f5-0c71-40fc-83d5-5c35ff8b4033",
   "metadata": {},
   "outputs": [],
   "source": [
    "ev = ev[ev[\"State of Charge (Start %)\"] <= 100]"
   ]
  },
  {
   "cell_type": "markdown",
   "id": "5a7684af-ecf8-4d9b-8e68-0e55fdb7678e",
   "metadata": {},
   "source": [
    "**Checking for Noisy Data in State of Charge (Start %)**"
   ]
  },
  {
   "cell_type": "code",
   "execution_count": 36,
   "id": "965031e6-2f37-4b88-9230-2ee6f165a801",
   "metadata": {},
   "outputs": [
    {
     "data": {
      "text/plain": [
       "np.int64(0)"
      ]
     },
     "execution_count": 36,
     "metadata": {},
     "output_type": "execute_result"
    }
   ],
   "source": [
    "ev[ev[\"State of Charge (End %)\"] < 0][\"State of Charge (End %)\"].count()"
   ]
  },
  {
   "cell_type": "code",
   "execution_count": 37,
   "id": "6607aca8-ce3a-4859-8643-5eaddacc79b6",
   "metadata": {},
   "outputs": [
    {
     "data": {
      "text/plain": [
       "np.int64(18)"
      ]
     },
     "execution_count": 37,
     "metadata": {},
     "output_type": "execute_result"
    }
   ],
   "source": [
    "ev[ev[\"State of Charge (End %)\"] > 100][\"State of Charge (End %)\"].count()"
   ]
  },
  {
   "cell_type": "code",
   "execution_count": 38,
   "id": "1ffc4119-a961-4a49-9627-13ac203cfcf7",
   "metadata": {},
   "outputs": [],
   "source": [
    "ev = ev[ev[\"State of Charge (End %)\"] <= 100]"
   ]
  },
  {
   "cell_type": "code",
   "execution_count": 39,
   "id": "57755ed3-fb97-43e1-af2a-3c2f402f69a9",
   "metadata": {},
   "outputs": [
    {
     "data": {
      "text/plain": [
       "(1033, 8)"
      ]
     },
     "execution_count": 39,
     "metadata": {},
     "output_type": "execute_result"
    }
   ],
   "source": [
    "ev.shape"
   ]
  },
  {
   "cell_type": "code",
   "execution_count": 40,
   "id": "876e4ae6-95d3-4b49-bfba-d77bdbfecf8a",
   "metadata": {},
   "outputs": [
    {
     "data": {
      "text/html": [
       "<div>\n",
       "<style scoped>\n",
       "    .dataframe tbody tr th:only-of-type {\n",
       "        vertical-align: middle;\n",
       "    }\n",
       "\n",
       "    .dataframe tbody tr th {\n",
       "        vertical-align: top;\n",
       "    }\n",
       "\n",
       "    .dataframe thead th {\n",
       "        text-align: right;\n",
       "    }\n",
       "</style>\n",
       "<table border=\"1\" class=\"dataframe\">\n",
       "  <thead>\n",
       "    <tr style=\"text-align: right;\">\n",
       "      <th></th>\n",
       "      <th>Vehicle Model</th>\n",
       "      <th>Charging Station Location</th>\n",
       "      <th>Charging Duration (hours)</th>\n",
       "      <th>Time of Day</th>\n",
       "      <th>State of Charge (Start %)</th>\n",
       "      <th>State of Charge (End %)</th>\n",
       "      <th>Temperature (°C)</th>\n",
       "      <th>Charger Type</th>\n",
       "    </tr>\n",
       "  </thead>\n",
       "  <tbody>\n",
       "    <tr>\n",
       "      <th>598</th>\n",
       "      <td>Hyundai Kona</td>\n",
       "      <td>Houston</td>\n",
       "      <td>2.693719</td>\n",
       "      <td>Evening</td>\n",
       "      <td>62.574120</td>\n",
       "      <td>88.358551</td>\n",
       "      <td>12.387165</td>\n",
       "      <td>Level 2</td>\n",
       "    </tr>\n",
       "    <tr>\n",
       "      <th>209</th>\n",
       "      <td>BMW i3</td>\n",
       "      <td>Los Angeles</td>\n",
       "      <td>2.422776</td>\n",
       "      <td>Night</td>\n",
       "      <td>16.340813</td>\n",
       "      <td>78.758467</td>\n",
       "      <td>29.561548</td>\n",
       "      <td>Level 2</td>\n",
       "    </tr>\n",
       "    <tr>\n",
       "      <th>538</th>\n",
       "      <td>Nissan Leaf</td>\n",
       "      <td>Houston</td>\n",
       "      <td>4.141746</td>\n",
       "      <td>Morning</td>\n",
       "      <td>49.716870</td>\n",
       "      <td>75.848523</td>\n",
       "      <td>-8.771230</td>\n",
       "      <td>Level 2</td>\n",
       "    </tr>\n",
       "    <tr>\n",
       "      <th>140</th>\n",
       "      <td>Tesla Model 3</td>\n",
       "      <td>Houston</td>\n",
       "      <td>1.299527</td>\n",
       "      <td>Morning</td>\n",
       "      <td>23.636762</td>\n",
       "      <td>68.058170</td>\n",
       "      <td>8.511630</td>\n",
       "      <td>DC Fast Charger</td>\n",
       "    </tr>\n",
       "    <tr>\n",
       "      <th>912</th>\n",
       "      <td>Chevy Bolt</td>\n",
       "      <td>San Francisco</td>\n",
       "      <td>3.061665</td>\n",
       "      <td>Morning</td>\n",
       "      <td>21.389780</td>\n",
       "      <td>50.855729</td>\n",
       "      <td>37.487267</td>\n",
       "      <td>Level 2</td>\n",
       "    </tr>\n",
       "  </tbody>\n",
       "</table>\n",
       "</div>"
      ],
      "text/plain": [
       "     Vehicle Model Charging Station Location  Charging Duration (hours)  \\\n",
       "598   Hyundai Kona                   Houston                   2.693719   \n",
       "209         BMW i3               Los Angeles                   2.422776   \n",
       "538    Nissan Leaf                   Houston                   4.141746   \n",
       "140  Tesla Model 3                   Houston                   1.299527   \n",
       "912     Chevy Bolt             San Francisco                   3.061665   \n",
       "\n",
       "    Time of Day  State of Charge (Start %)  State of Charge (End %)  \\\n",
       "598     Evening                  62.574120                88.358551   \n",
       "209       Night                  16.340813                78.758467   \n",
       "538     Morning                  49.716870                75.848523   \n",
       "140     Morning                  23.636762                68.058170   \n",
       "912     Morning                  21.389780                50.855729   \n",
       "\n",
       "     Temperature (°C)     Charger Type  \n",
       "598         12.387165          Level 2  \n",
       "209         29.561548          Level 2  \n",
       "538         -8.771230          Level 2  \n",
       "140          8.511630  DC Fast Charger  \n",
       "912         37.487267          Level 2  "
      ]
     },
     "execution_count": 40,
     "metadata": {},
     "output_type": "execute_result"
    }
   ],
   "source": [
    "ev.head()"
   ]
  },
  {
   "cell_type": "code",
   "execution_count": 41,
   "id": "83923d7b-aae6-43c7-bb3e-03c89ca10dd0",
   "metadata": {},
   "outputs": [
    {
     "data": {
      "text/plain": [
       "Vehicle Model                   5\n",
       "Charging Station Location       5\n",
       "Charging Duration (hours)    1033\n",
       "Time of Day                     4\n",
       "State of Charge (Start %)    1033\n",
       "State of Charge (End %)      1033\n",
       "Temperature (°C)             1033\n",
       "Charger Type                    3\n",
       "dtype: int64"
      ]
     },
     "execution_count": 41,
     "metadata": {},
     "output_type": "execute_result"
    }
   ],
   "source": [
    "ev.nunique()"
   ]
  },
  {
   "cell_type": "code",
   "execution_count": 42,
   "id": "92b4aa48-19b0-4e0a-92de-bed414f8238d",
   "metadata": {},
   "outputs": [
    {
     "data": {
      "text/plain": [
       "598     2.69\n",
       "209     2.42\n",
       "538     4.14\n",
       "140     1.30\n",
       "912     3.06\n",
       "        ... \n",
       "1095    0.93\n",
       "1130    3.23\n",
       "1294    3.41\n",
       "860     1.89\n",
       "1126    2.09\n",
       "Name: Charging Duration (hours), Length: 1033, dtype: float64"
      ]
     },
     "execution_count": 42,
     "metadata": {},
     "output_type": "execute_result"
    }
   ],
   "source": [
    "ev[\"Charging Duration (hours)\"].round(2)"
   ]
  },
  {
   "cell_type": "code",
   "execution_count": 43,
   "id": "41a7f9b0-4efd-4d44-82cf-4d831eccef7d",
   "metadata": {},
   "outputs": [],
   "source": [
    "ev_train = ev.drop(\"Charging Duration (hours)\", axis = 1)\n",
    "ev_labels = ev[\"Charging Duration (hours)\"].copy()"
   ]
  },
  {
   "cell_type": "code",
   "execution_count": 44,
   "id": "ff4034ad-f049-4c29-a8f9-5a6f089ffce7",
   "metadata": {},
   "outputs": [
    {
     "data": {
      "text/html": [
       "<div>\n",
       "<style scoped>\n",
       "    .dataframe tbody tr th:only-of-type {\n",
       "        vertical-align: middle;\n",
       "    }\n",
       "\n",
       "    .dataframe tbody tr th {\n",
       "        vertical-align: top;\n",
       "    }\n",
       "\n",
       "    .dataframe thead th {\n",
       "        text-align: right;\n",
       "    }\n",
       "</style>\n",
       "<table border=\"1\" class=\"dataframe\">\n",
       "  <thead>\n",
       "    <tr style=\"text-align: right;\">\n",
       "      <th></th>\n",
       "      <th>Vehicle Model</th>\n",
       "      <th>Charging Station Location</th>\n",
       "      <th>Time of Day</th>\n",
       "      <th>State of Charge (Start %)</th>\n",
       "      <th>State of Charge (End %)</th>\n",
       "      <th>Temperature (°C)</th>\n",
       "      <th>Charger Type</th>\n",
       "    </tr>\n",
       "  </thead>\n",
       "  <tbody>\n",
       "    <tr>\n",
       "      <th>598</th>\n",
       "      <td>Hyundai Kona</td>\n",
       "      <td>Houston</td>\n",
       "      <td>Evening</td>\n",
       "      <td>62.574120</td>\n",
       "      <td>88.358551</td>\n",
       "      <td>12.387165</td>\n",
       "      <td>Level 2</td>\n",
       "    </tr>\n",
       "    <tr>\n",
       "      <th>209</th>\n",
       "      <td>BMW i3</td>\n",
       "      <td>Los Angeles</td>\n",
       "      <td>Night</td>\n",
       "      <td>16.340813</td>\n",
       "      <td>78.758467</td>\n",
       "      <td>29.561548</td>\n",
       "      <td>Level 2</td>\n",
       "    </tr>\n",
       "    <tr>\n",
       "      <th>538</th>\n",
       "      <td>Nissan Leaf</td>\n",
       "      <td>Houston</td>\n",
       "      <td>Morning</td>\n",
       "      <td>49.716870</td>\n",
       "      <td>75.848523</td>\n",
       "      <td>-8.771230</td>\n",
       "      <td>Level 2</td>\n",
       "    </tr>\n",
       "    <tr>\n",
       "      <th>140</th>\n",
       "      <td>Tesla Model 3</td>\n",
       "      <td>Houston</td>\n",
       "      <td>Morning</td>\n",
       "      <td>23.636762</td>\n",
       "      <td>68.058170</td>\n",
       "      <td>8.511630</td>\n",
       "      <td>DC Fast Charger</td>\n",
       "    </tr>\n",
       "    <tr>\n",
       "      <th>912</th>\n",
       "      <td>Chevy Bolt</td>\n",
       "      <td>San Francisco</td>\n",
       "      <td>Morning</td>\n",
       "      <td>21.389780</td>\n",
       "      <td>50.855729</td>\n",
       "      <td>37.487267</td>\n",
       "      <td>Level 2</td>\n",
       "    </tr>\n",
       "  </tbody>\n",
       "</table>\n",
       "</div>"
      ],
      "text/plain": [
       "     Vehicle Model Charging Station Location Time of Day  \\\n",
       "598   Hyundai Kona                   Houston     Evening   \n",
       "209         BMW i3               Los Angeles       Night   \n",
       "538    Nissan Leaf                   Houston     Morning   \n",
       "140  Tesla Model 3                   Houston     Morning   \n",
       "912     Chevy Bolt             San Francisco     Morning   \n",
       "\n",
       "     State of Charge (Start %)  State of Charge (End %)  Temperature (°C)  \\\n",
       "598                  62.574120                88.358551         12.387165   \n",
       "209                  16.340813                78.758467         29.561548   \n",
       "538                  49.716870                75.848523         -8.771230   \n",
       "140                  23.636762                68.058170          8.511630   \n",
       "912                  21.389780                50.855729         37.487267   \n",
       "\n",
       "        Charger Type  \n",
       "598          Level 2  \n",
       "209          Level 2  \n",
       "538          Level 2  \n",
       "140  DC Fast Charger  \n",
       "912          Level 2  "
      ]
     },
     "execution_count": 44,
     "metadata": {},
     "output_type": "execute_result"
    }
   ],
   "source": [
    "ev_train.head()"
   ]
  },
  {
   "cell_type": "markdown",
   "id": "b0f81336-d383-4026-b39f-d1de337fc21b",
   "metadata": {},
   "source": [
    "## Preparing Pipeline"
   ]
  },
  {
   "cell_type": "markdown",
   "id": "fe0b3d29-81a9-480a-bfd5-58156b530212",
   "metadata": {},
   "source": [
    "### Numerical Attributes"
   ]
  },
  {
   "cell_type": "code",
   "execution_count": 45,
   "id": "71578ef0-b32a-4f2b-87d5-f37c4eed8d55",
   "metadata": {},
   "outputs": [],
   "source": [
    "from sklearn.impute import SimpleImputer"
   ]
  },
  {
   "cell_type": "code",
   "execution_count": 46,
   "id": "5c46fe19-89fc-46e7-8334-0d7f06b8bedf",
   "metadata": {},
   "outputs": [],
   "source": [
    "from sklearn.preprocessing import StandardScaler"
   ]
  },
  {
   "cell_type": "code",
   "execution_count": 47,
   "id": "f7b10b4e-8f7b-4813-a0fc-4c8125fe5f57",
   "metadata": {},
   "outputs": [],
   "source": [
    "from sklearn.pipeline import Pipeline"
   ]
  },
  {
   "cell_type": "code",
   "execution_count": 48,
   "id": "a07d8777-d069-433f-97a6-841e9050034f",
   "metadata": {},
   "outputs": [],
   "source": [
    "num_pipeline = Pipeline([\n",
    "    (\"imputer\", SimpleImputer(strategy = \"median\")),\n",
    "    (\"std_scaler\", StandardScaler()),\n",
    "]\n",
    ")"
   ]
  },
  {
   "cell_type": "code",
   "execution_count": 49,
   "id": "869d4e06-a937-416b-8c29-2344794e5a6c",
   "metadata": {},
   "outputs": [],
   "source": [
    "num_attribs = [\"State of Charge (Start %)\", \"State of Charge (End %)\", \"Temperature (°C)\"]"
   ]
  },
  {
   "cell_type": "code",
   "execution_count": 50,
   "id": "359704af-a257-4d8c-a47d-e20bf045cf01",
   "metadata": {},
   "outputs": [],
   "source": [
    "ev_num = ev_train[num_attribs]"
   ]
  },
  {
   "cell_type": "code",
   "execution_count": 51,
   "id": "9875e97d-b1a2-4855-adbb-ab7e7dbfb04f",
   "metadata": {},
   "outputs": [],
   "source": [
    "ev_num_tr = num_pipeline.fit_transform(ev_num)"
   ]
  },
  {
   "cell_type": "code",
   "execution_count": 52,
   "id": "3e46f9cd-4ded-4cac-bb37-364548d59d11",
   "metadata": {},
   "outputs": [
    {
     "data": {
      "text/plain": [
       "array([[ 0.59903514,  0.89570707, -0.20838302],\n",
       "       [-1.39039849,  0.28111916,  0.9406721 ],\n",
       "       [ 0.04578365,  0.09482742, -1.62398918],\n",
       "       ...,\n",
       "       [ 0.64467253, -3.29576478,  0.73745479],\n",
       "       [ 1.70415235, -0.07075106, -0.83267467],\n",
       "       [ 1.63325313,  1.58292414,  1.54464974]], shape=(1033, 3))"
      ]
     },
     "execution_count": 52,
     "metadata": {},
     "output_type": "execute_result"
    }
   ],
   "source": [
    "ev_num_tr"
   ]
  },
  {
   "cell_type": "markdown",
   "id": "12bc3a88-8edf-45f4-a06a-100228ade98f",
   "metadata": {},
   "source": [
    "### Categorical Attributes"
   ]
  },
  {
   "cell_type": "code",
   "execution_count": 53,
   "id": "bae96fcc-bfb0-4f0f-874d-27dec03e8136",
   "metadata": {},
   "outputs": [],
   "source": [
    "from sklearn.preprocessing import OneHotEncoder"
   ]
  },
  {
   "cell_type": "code",
   "execution_count": 54,
   "id": "6330db22-89f9-4355-870d-a6846d1e40f8",
   "metadata": {},
   "outputs": [],
   "source": [
    "cat_encoder = OneHotEncoder()"
   ]
  },
  {
   "cell_type": "code",
   "execution_count": 55,
   "id": "68293fa4-6185-4011-82dd-3295a681cad7",
   "metadata": {},
   "outputs": [],
   "source": [
    "cat_attribs = [\"Vehicle Model\", \"Charging Station Location\", \"Time of Day\", \"Charger Type\"]"
   ]
  },
  {
   "cell_type": "code",
   "execution_count": 56,
   "id": "b5abac6f-be0b-44c7-819f-b0b0ee1699fc",
   "metadata": {},
   "outputs": [],
   "source": [
    "ev_cat = ev_train[cat_attribs]"
   ]
  },
  {
   "cell_type": "code",
   "execution_count": 57,
   "id": "cfb0ea69-b52e-4164-9720-bede42255cca",
   "metadata": {},
   "outputs": [],
   "source": [
    "ev_cat_tr = cat_encoder.fit_transform(ev_cat)"
   ]
  },
  {
   "cell_type": "code",
   "execution_count": 58,
   "id": "cf2378d1-bb19-4eaf-8ef9-65b71df84ea2",
   "metadata": {},
   "outputs": [
    {
     "data": {
      "text/plain": [
       "[array(['BMW i3', 'Chevy Bolt', 'Hyundai Kona', 'Nissan Leaf',\n",
       "        'Tesla Model 3'], dtype=object),\n",
       " array(['Chicago', 'Houston', 'Los Angeles', 'New York', 'San Francisco'],\n",
       "       dtype=object),\n",
       " array(['Afternoon', 'Evening', 'Morning', 'Night'], dtype=object),\n",
       " array(['DC Fast Charger', 'Level 1', 'Level 2'], dtype=object)]"
      ]
     },
     "execution_count": 58,
     "metadata": {},
     "output_type": "execute_result"
    }
   ],
   "source": [
    "cat_encoder.categories_"
   ]
  },
  {
   "cell_type": "code",
   "execution_count": 59,
   "id": "3f1fe296-b01c-485a-9da5-40d57fa004ba",
   "metadata": {},
   "outputs": [
    {
     "data": {
      "text/plain": [
       "array([[0., 0., 1., ..., 0., 0., 1.],\n",
       "       [1., 0., 0., ..., 0., 0., 1.],\n",
       "       [0., 0., 0., ..., 0., 0., 1.],\n",
       "       ...,\n",
       "       [0., 1., 0., ..., 0., 1., 0.],\n",
       "       [0., 0., 0., ..., 1., 0., 0.],\n",
       "       [1., 0., 0., ..., 0., 1., 0.]], shape=(1033, 17))"
      ]
     },
     "execution_count": 59,
     "metadata": {},
     "output_type": "execute_result"
    }
   ],
   "source": [
    "ev_cat_tr.toarray()"
   ]
  },
  {
   "cell_type": "markdown",
   "id": "ac70049b-33fd-4f0c-a610-21dc9ac8f908",
   "metadata": {},
   "source": [
    "### Full Pipeline"
   ]
  },
  {
   "cell_type": "code",
   "execution_count": 60,
   "id": "ca4839ab-b6c4-419d-8c52-6707c639a79a",
   "metadata": {},
   "outputs": [],
   "source": [
    "from sklearn.compose import ColumnTransformer"
   ]
  },
  {
   "cell_type": "code",
   "execution_count": 61,
   "id": "a6f9d4ba-7112-4b8c-bc87-f0bcc6efd3b2",
   "metadata": {},
   "outputs": [],
   "source": [
    "full_pipeline = ColumnTransformer([\n",
    "    (\"num\", num_pipeline, num_attribs),\n",
    "    (\"cat\", OneHotEncoder(), cat_attribs),\n",
    "]\n",
    ")"
   ]
  },
  {
   "cell_type": "code",
   "execution_count": 62,
   "id": "66ad5082-17c0-4916-b986-2c59bb894a8f",
   "metadata": {},
   "outputs": [],
   "source": [
    "ev_prepared = full_pipeline.fit_transform(ev_train)"
   ]
  },
  {
   "cell_type": "code",
   "execution_count": 63,
   "id": "7616fbd6-2540-462e-801a-1021d4386901",
   "metadata": {},
   "outputs": [
    {
     "data": {
      "text/plain": [
       "(1033, 20)"
      ]
     },
     "execution_count": 63,
     "metadata": {},
     "output_type": "execute_result"
    }
   ],
   "source": [
    "ev_prepared.shape"
   ]
  },
  {
   "cell_type": "markdown",
   "id": "291d51db-7f75-4293-81c9-2f4437edd191",
   "metadata": {},
   "source": [
    "# Random Forest Regressor"
   ]
  },
  {
   "cell_type": "code",
   "execution_count": 64,
   "id": "2b3f6915-90ee-4285-9af3-f5427bfcc037",
   "metadata": {},
   "outputs": [],
   "source": [
    "from sklearn.ensemble import RandomForestRegressor"
   ]
  },
  {
   "cell_type": "code",
   "execution_count": 65,
   "id": "66a945aa-3acd-427e-bf06-165e84d275c9",
   "metadata": {},
   "outputs": [],
   "source": [
    "forest_reg = RandomForestRegressor()"
   ]
  },
  {
   "cell_type": "code",
   "execution_count": 66,
   "id": "cd68054a-5017-4a18-99ab-ad4e8b819667",
   "metadata": {},
   "outputs": [
    {
     "data": {
      "text/html": [
       "<style>#sk-container-id-1 {\n",
       "  /* Definition of color scheme common for light and dark mode */\n",
       "  --sklearn-color-text: #000;\n",
       "  --sklearn-color-text-muted: #666;\n",
       "  --sklearn-color-line: gray;\n",
       "  /* Definition of color scheme for unfitted estimators */\n",
       "  --sklearn-color-unfitted-level-0: #fff5e6;\n",
       "  --sklearn-color-unfitted-level-1: #f6e4d2;\n",
       "  --sklearn-color-unfitted-level-2: #ffe0b3;\n",
       "  --sklearn-color-unfitted-level-3: chocolate;\n",
       "  /* Definition of color scheme for fitted estimators */\n",
       "  --sklearn-color-fitted-level-0: #f0f8ff;\n",
       "  --sklearn-color-fitted-level-1: #d4ebff;\n",
       "  --sklearn-color-fitted-level-2: #b3dbfd;\n",
       "  --sklearn-color-fitted-level-3: cornflowerblue;\n",
       "\n",
       "  /* Specific color for light theme */\n",
       "  --sklearn-color-text-on-default-background: var(--sg-text-color, var(--theme-code-foreground, var(--jp-content-font-color1, black)));\n",
       "  --sklearn-color-background: var(--sg-background-color, var(--theme-background, var(--jp-layout-color0, white)));\n",
       "  --sklearn-color-border-box: var(--sg-text-color, var(--theme-code-foreground, var(--jp-content-font-color1, black)));\n",
       "  --sklearn-color-icon: #696969;\n",
       "\n",
       "  @media (prefers-color-scheme: dark) {\n",
       "    /* Redefinition of color scheme for dark theme */\n",
       "    --sklearn-color-text-on-default-background: var(--sg-text-color, var(--theme-code-foreground, var(--jp-content-font-color1, white)));\n",
       "    --sklearn-color-background: var(--sg-background-color, var(--theme-background, var(--jp-layout-color0, #111)));\n",
       "    --sklearn-color-border-box: var(--sg-text-color, var(--theme-code-foreground, var(--jp-content-font-color1, white)));\n",
       "    --sklearn-color-icon: #878787;\n",
       "  }\n",
       "}\n",
       "\n",
       "#sk-container-id-1 {\n",
       "  color: var(--sklearn-color-text);\n",
       "}\n",
       "\n",
       "#sk-container-id-1 pre {\n",
       "  padding: 0;\n",
       "}\n",
       "\n",
       "#sk-container-id-1 input.sk-hidden--visually {\n",
       "  border: 0;\n",
       "  clip: rect(1px 1px 1px 1px);\n",
       "  clip: rect(1px, 1px, 1px, 1px);\n",
       "  height: 1px;\n",
       "  margin: -1px;\n",
       "  overflow: hidden;\n",
       "  padding: 0;\n",
       "  position: absolute;\n",
       "  width: 1px;\n",
       "}\n",
       "\n",
       "#sk-container-id-1 div.sk-dashed-wrapped {\n",
       "  border: 1px dashed var(--sklearn-color-line);\n",
       "  margin: 0 0.4em 0.5em 0.4em;\n",
       "  box-sizing: border-box;\n",
       "  padding-bottom: 0.4em;\n",
       "  background-color: var(--sklearn-color-background);\n",
       "}\n",
       "\n",
       "#sk-container-id-1 div.sk-container {\n",
       "  /* jupyter's `normalize.less` sets `[hidden] { display: none; }`\n",
       "     but bootstrap.min.css set `[hidden] { display: none !important; }`\n",
       "     so we also need the `!important` here to be able to override the\n",
       "     default hidden behavior on the sphinx rendered scikit-learn.org.\n",
       "     See: https://github.com/scikit-learn/scikit-learn/issues/21755 */\n",
       "  display: inline-block !important;\n",
       "  position: relative;\n",
       "}\n",
       "\n",
       "#sk-container-id-1 div.sk-text-repr-fallback {\n",
       "  display: none;\n",
       "}\n",
       "\n",
       "div.sk-parallel-item,\n",
       "div.sk-serial,\n",
       "div.sk-item {\n",
       "  /* draw centered vertical line to link estimators */\n",
       "  background-image: linear-gradient(var(--sklearn-color-text-on-default-background), var(--sklearn-color-text-on-default-background));\n",
       "  background-size: 2px 100%;\n",
       "  background-repeat: no-repeat;\n",
       "  background-position: center center;\n",
       "}\n",
       "\n",
       "/* Parallel-specific style estimator block */\n",
       "\n",
       "#sk-container-id-1 div.sk-parallel-item::after {\n",
       "  content: \"\";\n",
       "  width: 100%;\n",
       "  border-bottom: 2px solid var(--sklearn-color-text-on-default-background);\n",
       "  flex-grow: 1;\n",
       "}\n",
       "\n",
       "#sk-container-id-1 div.sk-parallel {\n",
       "  display: flex;\n",
       "  align-items: stretch;\n",
       "  justify-content: center;\n",
       "  background-color: var(--sklearn-color-background);\n",
       "  position: relative;\n",
       "}\n",
       "\n",
       "#sk-container-id-1 div.sk-parallel-item {\n",
       "  display: flex;\n",
       "  flex-direction: column;\n",
       "}\n",
       "\n",
       "#sk-container-id-1 div.sk-parallel-item:first-child::after {\n",
       "  align-self: flex-end;\n",
       "  width: 50%;\n",
       "}\n",
       "\n",
       "#sk-container-id-1 div.sk-parallel-item:last-child::after {\n",
       "  align-self: flex-start;\n",
       "  width: 50%;\n",
       "}\n",
       "\n",
       "#sk-container-id-1 div.sk-parallel-item:only-child::after {\n",
       "  width: 0;\n",
       "}\n",
       "\n",
       "/* Serial-specific style estimator block */\n",
       "\n",
       "#sk-container-id-1 div.sk-serial {\n",
       "  display: flex;\n",
       "  flex-direction: column;\n",
       "  align-items: center;\n",
       "  background-color: var(--sklearn-color-background);\n",
       "  padding-right: 1em;\n",
       "  padding-left: 1em;\n",
       "}\n",
       "\n",
       "\n",
       "/* Toggleable style: style used for estimator/Pipeline/ColumnTransformer box that is\n",
       "clickable and can be expanded/collapsed.\n",
       "- Pipeline and ColumnTransformer use this feature and define the default style\n",
       "- Estimators will overwrite some part of the style using the `sk-estimator` class\n",
       "*/\n",
       "\n",
       "/* Pipeline and ColumnTransformer style (default) */\n",
       "\n",
       "#sk-container-id-1 div.sk-toggleable {\n",
       "  /* Default theme specific background. It is overwritten whether we have a\n",
       "  specific estimator or a Pipeline/ColumnTransformer */\n",
       "  background-color: var(--sklearn-color-background);\n",
       "}\n",
       "\n",
       "/* Toggleable label */\n",
       "#sk-container-id-1 label.sk-toggleable__label {\n",
       "  cursor: pointer;\n",
       "  display: flex;\n",
       "  width: 100%;\n",
       "  margin-bottom: 0;\n",
       "  padding: 0.5em;\n",
       "  box-sizing: border-box;\n",
       "  text-align: center;\n",
       "  align-items: start;\n",
       "  justify-content: space-between;\n",
       "  gap: 0.5em;\n",
       "}\n",
       "\n",
       "#sk-container-id-1 label.sk-toggleable__label .caption {\n",
       "  font-size: 0.6rem;\n",
       "  font-weight: lighter;\n",
       "  color: var(--sklearn-color-text-muted);\n",
       "}\n",
       "\n",
       "#sk-container-id-1 label.sk-toggleable__label-arrow:before {\n",
       "  /* Arrow on the left of the label */\n",
       "  content: \"▸\";\n",
       "  float: left;\n",
       "  margin-right: 0.25em;\n",
       "  color: var(--sklearn-color-icon);\n",
       "}\n",
       "\n",
       "#sk-container-id-1 label.sk-toggleable__label-arrow:hover:before {\n",
       "  color: var(--sklearn-color-text);\n",
       "}\n",
       "\n",
       "/* Toggleable content - dropdown */\n",
       "\n",
       "#sk-container-id-1 div.sk-toggleable__content {\n",
       "  max-height: 0;\n",
       "  max-width: 0;\n",
       "  overflow: hidden;\n",
       "  text-align: left;\n",
       "  /* unfitted */\n",
       "  background-color: var(--sklearn-color-unfitted-level-0);\n",
       "}\n",
       "\n",
       "#sk-container-id-1 div.sk-toggleable__content.fitted {\n",
       "  /* fitted */\n",
       "  background-color: var(--sklearn-color-fitted-level-0);\n",
       "}\n",
       "\n",
       "#sk-container-id-1 div.sk-toggleable__content pre {\n",
       "  margin: 0.2em;\n",
       "  border-radius: 0.25em;\n",
       "  color: var(--sklearn-color-text);\n",
       "  /* unfitted */\n",
       "  background-color: var(--sklearn-color-unfitted-level-0);\n",
       "}\n",
       "\n",
       "#sk-container-id-1 div.sk-toggleable__content.fitted pre {\n",
       "  /* unfitted */\n",
       "  background-color: var(--sklearn-color-fitted-level-0);\n",
       "}\n",
       "\n",
       "#sk-container-id-1 input.sk-toggleable__control:checked~div.sk-toggleable__content {\n",
       "  /* Expand drop-down */\n",
       "  max-height: 200px;\n",
       "  max-width: 100%;\n",
       "  overflow: auto;\n",
       "}\n",
       "\n",
       "#sk-container-id-1 input.sk-toggleable__control:checked~label.sk-toggleable__label-arrow:before {\n",
       "  content: \"▾\";\n",
       "}\n",
       "\n",
       "/* Pipeline/ColumnTransformer-specific style */\n",
       "\n",
       "#sk-container-id-1 div.sk-label input.sk-toggleable__control:checked~label.sk-toggleable__label {\n",
       "  color: var(--sklearn-color-text);\n",
       "  background-color: var(--sklearn-color-unfitted-level-2);\n",
       "}\n",
       "\n",
       "#sk-container-id-1 div.sk-label.fitted input.sk-toggleable__control:checked~label.sk-toggleable__label {\n",
       "  background-color: var(--sklearn-color-fitted-level-2);\n",
       "}\n",
       "\n",
       "/* Estimator-specific style */\n",
       "\n",
       "/* Colorize estimator box */\n",
       "#sk-container-id-1 div.sk-estimator input.sk-toggleable__control:checked~label.sk-toggleable__label {\n",
       "  /* unfitted */\n",
       "  background-color: var(--sklearn-color-unfitted-level-2);\n",
       "}\n",
       "\n",
       "#sk-container-id-1 div.sk-estimator.fitted input.sk-toggleable__control:checked~label.sk-toggleable__label {\n",
       "  /* fitted */\n",
       "  background-color: var(--sklearn-color-fitted-level-2);\n",
       "}\n",
       "\n",
       "#sk-container-id-1 div.sk-label label.sk-toggleable__label,\n",
       "#sk-container-id-1 div.sk-label label {\n",
       "  /* The background is the default theme color */\n",
       "  color: var(--sklearn-color-text-on-default-background);\n",
       "}\n",
       "\n",
       "/* On hover, darken the color of the background */\n",
       "#sk-container-id-1 div.sk-label:hover label.sk-toggleable__label {\n",
       "  color: var(--sklearn-color-text);\n",
       "  background-color: var(--sklearn-color-unfitted-level-2);\n",
       "}\n",
       "\n",
       "/* Label box, darken color on hover, fitted */\n",
       "#sk-container-id-1 div.sk-label.fitted:hover label.sk-toggleable__label.fitted {\n",
       "  color: var(--sklearn-color-text);\n",
       "  background-color: var(--sklearn-color-fitted-level-2);\n",
       "}\n",
       "\n",
       "/* Estimator label */\n",
       "\n",
       "#sk-container-id-1 div.sk-label label {\n",
       "  font-family: monospace;\n",
       "  font-weight: bold;\n",
       "  display: inline-block;\n",
       "  line-height: 1.2em;\n",
       "}\n",
       "\n",
       "#sk-container-id-1 div.sk-label-container {\n",
       "  text-align: center;\n",
       "}\n",
       "\n",
       "/* Estimator-specific */\n",
       "#sk-container-id-1 div.sk-estimator {\n",
       "  font-family: monospace;\n",
       "  border: 1px dotted var(--sklearn-color-border-box);\n",
       "  border-radius: 0.25em;\n",
       "  box-sizing: border-box;\n",
       "  margin-bottom: 0.5em;\n",
       "  /* unfitted */\n",
       "  background-color: var(--sklearn-color-unfitted-level-0);\n",
       "}\n",
       "\n",
       "#sk-container-id-1 div.sk-estimator.fitted {\n",
       "  /* fitted */\n",
       "  background-color: var(--sklearn-color-fitted-level-0);\n",
       "}\n",
       "\n",
       "/* on hover */\n",
       "#sk-container-id-1 div.sk-estimator:hover {\n",
       "  /* unfitted */\n",
       "  background-color: var(--sklearn-color-unfitted-level-2);\n",
       "}\n",
       "\n",
       "#sk-container-id-1 div.sk-estimator.fitted:hover {\n",
       "  /* fitted */\n",
       "  background-color: var(--sklearn-color-fitted-level-2);\n",
       "}\n",
       "\n",
       "/* Specification for estimator info (e.g. \"i\" and \"?\") */\n",
       "\n",
       "/* Common style for \"i\" and \"?\" */\n",
       "\n",
       ".sk-estimator-doc-link,\n",
       "a:link.sk-estimator-doc-link,\n",
       "a:visited.sk-estimator-doc-link {\n",
       "  float: right;\n",
       "  font-size: smaller;\n",
       "  line-height: 1em;\n",
       "  font-family: monospace;\n",
       "  background-color: var(--sklearn-color-background);\n",
       "  border-radius: 1em;\n",
       "  height: 1em;\n",
       "  width: 1em;\n",
       "  text-decoration: none !important;\n",
       "  margin-left: 0.5em;\n",
       "  text-align: center;\n",
       "  /* unfitted */\n",
       "  border: var(--sklearn-color-unfitted-level-1) 1pt solid;\n",
       "  color: var(--sklearn-color-unfitted-level-1);\n",
       "}\n",
       "\n",
       ".sk-estimator-doc-link.fitted,\n",
       "a:link.sk-estimator-doc-link.fitted,\n",
       "a:visited.sk-estimator-doc-link.fitted {\n",
       "  /* fitted */\n",
       "  border: var(--sklearn-color-fitted-level-1) 1pt solid;\n",
       "  color: var(--sklearn-color-fitted-level-1);\n",
       "}\n",
       "\n",
       "/* On hover */\n",
       "div.sk-estimator:hover .sk-estimator-doc-link:hover,\n",
       ".sk-estimator-doc-link:hover,\n",
       "div.sk-label-container:hover .sk-estimator-doc-link:hover,\n",
       ".sk-estimator-doc-link:hover {\n",
       "  /* unfitted */\n",
       "  background-color: var(--sklearn-color-unfitted-level-3);\n",
       "  color: var(--sklearn-color-background);\n",
       "  text-decoration: none;\n",
       "}\n",
       "\n",
       "div.sk-estimator.fitted:hover .sk-estimator-doc-link.fitted:hover,\n",
       ".sk-estimator-doc-link.fitted:hover,\n",
       "div.sk-label-container:hover .sk-estimator-doc-link.fitted:hover,\n",
       ".sk-estimator-doc-link.fitted:hover {\n",
       "  /* fitted */\n",
       "  background-color: var(--sklearn-color-fitted-level-3);\n",
       "  color: var(--sklearn-color-background);\n",
       "  text-decoration: none;\n",
       "}\n",
       "\n",
       "/* Span, style for the box shown on hovering the info icon */\n",
       ".sk-estimator-doc-link span {\n",
       "  display: none;\n",
       "  z-index: 9999;\n",
       "  position: relative;\n",
       "  font-weight: normal;\n",
       "  right: .2ex;\n",
       "  padding: .5ex;\n",
       "  margin: .5ex;\n",
       "  width: min-content;\n",
       "  min-width: 20ex;\n",
       "  max-width: 50ex;\n",
       "  color: var(--sklearn-color-text);\n",
       "  box-shadow: 2pt 2pt 4pt #999;\n",
       "  /* unfitted */\n",
       "  background: var(--sklearn-color-unfitted-level-0);\n",
       "  border: .5pt solid var(--sklearn-color-unfitted-level-3);\n",
       "}\n",
       "\n",
       ".sk-estimator-doc-link.fitted span {\n",
       "  /* fitted */\n",
       "  background: var(--sklearn-color-fitted-level-0);\n",
       "  border: var(--sklearn-color-fitted-level-3);\n",
       "}\n",
       "\n",
       ".sk-estimator-doc-link:hover span {\n",
       "  display: block;\n",
       "}\n",
       "\n",
       "/* \"?\"-specific style due to the `<a>` HTML tag */\n",
       "\n",
       "#sk-container-id-1 a.estimator_doc_link {\n",
       "  float: right;\n",
       "  font-size: 1rem;\n",
       "  line-height: 1em;\n",
       "  font-family: monospace;\n",
       "  background-color: var(--sklearn-color-background);\n",
       "  border-radius: 1rem;\n",
       "  height: 1rem;\n",
       "  width: 1rem;\n",
       "  text-decoration: none;\n",
       "  /* unfitted */\n",
       "  color: var(--sklearn-color-unfitted-level-1);\n",
       "  border: var(--sklearn-color-unfitted-level-1) 1pt solid;\n",
       "}\n",
       "\n",
       "#sk-container-id-1 a.estimator_doc_link.fitted {\n",
       "  /* fitted */\n",
       "  border: var(--sklearn-color-fitted-level-1) 1pt solid;\n",
       "  color: var(--sklearn-color-fitted-level-1);\n",
       "}\n",
       "\n",
       "/* On hover */\n",
       "#sk-container-id-1 a.estimator_doc_link:hover {\n",
       "  /* unfitted */\n",
       "  background-color: var(--sklearn-color-unfitted-level-3);\n",
       "  color: var(--sklearn-color-background);\n",
       "  text-decoration: none;\n",
       "}\n",
       "\n",
       "#sk-container-id-1 a.estimator_doc_link.fitted:hover {\n",
       "  /* fitted */\n",
       "  background-color: var(--sklearn-color-fitted-level-3);\n",
       "}\n",
       "</style><div id=\"sk-container-id-1\" class=\"sk-top-container\"><div class=\"sk-text-repr-fallback\"><pre>RandomForestRegressor()</pre><b>In a Jupyter environment, please rerun this cell to show the HTML representation or trust the notebook. <br />On GitHub, the HTML representation is unable to render, please try loading this page with nbviewer.org.</b></div><div class=\"sk-container\" hidden><div class=\"sk-item\"><div class=\"sk-estimator fitted sk-toggleable\"><input class=\"sk-toggleable__control sk-hidden--visually\" id=\"sk-estimator-id-1\" type=\"checkbox\" checked><label for=\"sk-estimator-id-1\" class=\"sk-toggleable__label fitted sk-toggleable__label-arrow\"><div><div>RandomForestRegressor</div></div><div><a class=\"sk-estimator-doc-link fitted\" rel=\"noreferrer\" target=\"_blank\" href=\"https://scikit-learn.org/1.6/modules/generated/sklearn.ensemble.RandomForestRegressor.html\">?<span>Documentation for RandomForestRegressor</span></a><span class=\"sk-estimator-doc-link fitted\">i<span>Fitted</span></span></div></label><div class=\"sk-toggleable__content fitted\"><pre>RandomForestRegressor()</pre></div> </div></div></div></div>"
      ],
      "text/plain": [
       "RandomForestRegressor()"
      ]
     },
     "execution_count": 66,
     "metadata": {},
     "output_type": "execute_result"
    }
   ],
   "source": [
    "forest_reg.fit(ev_prepared, ev_labels)"
   ]
  },
  {
   "cell_type": "code",
   "execution_count": 67,
   "id": "2a133d39-6c7d-4312-b8a1-736165473afa",
   "metadata": {},
   "outputs": [],
   "source": [
    "ev_pred = forest_reg.predict(ev_prepared)"
   ]
  },
  {
   "cell_type": "code",
   "execution_count": 68,
   "id": "15f27c2a-277a-42ed-860e-b980746e7314",
   "metadata": {},
   "outputs": [],
   "source": [
    "from sklearn.metrics import r2_score"
   ]
  },
  {
   "cell_type": "code",
   "execution_count": 69,
   "id": "b04875f0-a2df-4bd5-83d8-f406a1775483",
   "metadata": {},
   "outputs": [],
   "source": [
    "score = r2_score(ev_labels, ev_pred)"
   ]
  },
  {
   "cell_type": "code",
   "execution_count": 70,
   "id": "16c2a763-999b-459f-9bf1-7012041d6f13",
   "metadata": {},
   "outputs": [
    {
     "data": {
      "text/plain": [
       "0.8476634085831949"
      ]
     },
     "execution_count": 70,
     "metadata": {},
     "output_type": "execute_result"
    }
   ],
   "source": [
    "score"
   ]
  },
  {
   "cell_type": "markdown",
   "id": "9c006dd9-4c35-4741-8f73-cfd4d628c749",
   "metadata": {},
   "source": [
    "### Testing on Training Data"
   ]
  },
  {
   "cell_type": "code",
   "execution_count": 71,
   "id": "02dc6b75-39e8-42c6-8815-12853a448049",
   "metadata": {},
   "outputs": [],
   "source": [
    "#Testing instances\n",
    "\n",
    "some_instances = ev_train.iloc[:5]\n",
    "some_labels = ev_labels.iloc[:5] "
   ]
  },
  {
   "cell_type": "code",
   "execution_count": 72,
   "id": "5783be9b-abc6-4e14-b4cd-398554c9e6c8",
   "metadata": {},
   "outputs": [],
   "source": [
    "#Applying Transformations on testing instances\n",
    "\n",
    "some_data_prepared = full_pipeline.transform(some_instances)"
   ]
  },
  {
   "cell_type": "code",
   "execution_count": 73,
   "id": "85bc2b12-dc89-404c-ae92-70aa0d29164d",
   "metadata": {},
   "outputs": [
    {
     "name": "stdout",
     "output_type": "stream",
     "text": [
      "Predictions are: [2.57922498 2.45997926 3.25923348 1.67779023 2.84540895]\n"
     ]
    }
   ],
   "source": [
    "#Predicts the output\n",
    "\n",
    "print(\"Predictions are:\", forest_reg.predict(some_data_prepared))"
   ]
  },
  {
   "cell_type": "code",
   "execution_count": 74,
   "id": "3d64b23e-26ad-4f2a-bd6f-1ef74b7c0d6f",
   "metadata": {},
   "outputs": [
    {
     "name": "stdout",
     "output_type": "stream",
     "text": [
      "Labels are: [2.6937194091618064, 2.4227759300549403, 4.141746358801111, 1.2995270359925628, 3.061664696545612]\n"
     ]
    }
   ],
   "source": [
    "print(\"Labels are:\",list(some_labels))"
   ]
  },
  {
   "cell_type": "markdown",
   "id": "1405b2c3-0442-401c-a1ea-9ece1fc889dd",
   "metadata": {},
   "source": [
    "### Testing on Test Data"
   ]
  },
  {
   "cell_type": "code",
   "execution_count": 75,
   "id": "68101b09-f727-40f2-890b-7c2b0bcc0b4a",
   "metadata": {},
   "outputs": [],
   "source": [
    "test_input = test.drop(\"Charging Duration (hours)\", axis = 1)"
   ]
  },
  {
   "cell_type": "code",
   "execution_count": 76,
   "id": "1970463f-38c2-4a5d-b6df-695b1c1d0af2",
   "metadata": {},
   "outputs": [
    {
     "data": {
      "text/html": [
       "<div>\n",
       "<style scoped>\n",
       "    .dataframe tbody tr th:only-of-type {\n",
       "        vertical-align: middle;\n",
       "    }\n",
       "\n",
       "    .dataframe tbody tr th {\n",
       "        vertical-align: top;\n",
       "    }\n",
       "\n",
       "    .dataframe thead th {\n",
       "        text-align: right;\n",
       "    }\n",
       "</style>\n",
       "<table border=\"1\" class=\"dataframe\">\n",
       "  <thead>\n",
       "    <tr style=\"text-align: right;\">\n",
       "      <th></th>\n",
       "      <th>Vehicle Model</th>\n",
       "      <th>Charging Station Location</th>\n",
       "      <th>Time of Day</th>\n",
       "      <th>State of Charge (Start %)</th>\n",
       "      <th>State of Charge (End %)</th>\n",
       "      <th>Temperature (°C)</th>\n",
       "      <th>Charger Type</th>\n",
       "    </tr>\n",
       "  </thead>\n",
       "  <tbody>\n",
       "    <tr>\n",
       "      <th>678</th>\n",
       "      <td>Hyundai Kona</td>\n",
       "      <td>New York</td>\n",
       "      <td>Morning</td>\n",
       "      <td>79.030929</td>\n",
       "      <td>53.996989</td>\n",
       "      <td>37.345873</td>\n",
       "      <td>Level 2</td>\n",
       "    </tr>\n",
       "    <tr>\n",
       "      <th>693</th>\n",
       "      <td>Tesla Model 3</td>\n",
       "      <td>Houston</td>\n",
       "      <td>Night</td>\n",
       "      <td>74.877488</td>\n",
       "      <td>94.073569</td>\n",
       "      <td>28.419941</td>\n",
       "      <td>Level 1</td>\n",
       "    </tr>\n",
       "    <tr>\n",
       "      <th>610</th>\n",
       "      <td>Tesla Model 3</td>\n",
       "      <td>San Francisco</td>\n",
       "      <td>Evening</td>\n",
       "      <td>30.228182</td>\n",
       "      <td>80.043745</td>\n",
       "      <td>11.712170</td>\n",
       "      <td>Level 1</td>\n",
       "    </tr>\n",
       "    <tr>\n",
       "      <th>49</th>\n",
       "      <td>BMW i3</td>\n",
       "      <td>New York</td>\n",
       "      <td>Afternoon</td>\n",
       "      <td>27.196196</td>\n",
       "      <td>86.893918</td>\n",
       "      <td>5.378080</td>\n",
       "      <td>Level 2</td>\n",
       "    </tr>\n",
       "    <tr>\n",
       "      <th>1291</th>\n",
       "      <td>BMW i3</td>\n",
       "      <td>Chicago</td>\n",
       "      <td>Evening</td>\n",
       "      <td>39.914802</td>\n",
       "      <td>53.246014</td>\n",
       "      <td>0.710858</td>\n",
       "      <td>Level 2</td>\n",
       "    </tr>\n",
       "    <tr>\n",
       "      <th>...</th>\n",
       "      <td>...</td>\n",
       "      <td>...</td>\n",
       "      <td>...</td>\n",
       "      <td>...</td>\n",
       "      <td>...</td>\n",
       "      <td>...</td>\n",
       "      <td>...</td>\n",
       "    </tr>\n",
       "    <tr>\n",
       "      <th>1013</th>\n",
       "      <td>Tesla Model 3</td>\n",
       "      <td>New York</td>\n",
       "      <td>Evening</td>\n",
       "      <td>30.427475</td>\n",
       "      <td>87.877269</td>\n",
       "      <td>-9.554707</td>\n",
       "      <td>Level 2</td>\n",
       "    </tr>\n",
       "    <tr>\n",
       "      <th>1003</th>\n",
       "      <td>BMW i3</td>\n",
       "      <td>San Francisco</td>\n",
       "      <td>Morning</td>\n",
       "      <td>89.039529</td>\n",
       "      <td>98.831055</td>\n",
       "      <td>37.902021</td>\n",
       "      <td>Level 1</td>\n",
       "    </tr>\n",
       "    <tr>\n",
       "      <th>952</th>\n",
       "      <td>BMW i3</td>\n",
       "      <td>Los Angeles</td>\n",
       "      <td>Morning</td>\n",
       "      <td>81.483886</td>\n",
       "      <td>83.173005</td>\n",
       "      <td>23.156295</td>\n",
       "      <td>Level 1</td>\n",
       "    </tr>\n",
       "    <tr>\n",
       "      <th>542</th>\n",
       "      <td>Nissan Leaf</td>\n",
       "      <td>Los Angeles</td>\n",
       "      <td>Night</td>\n",
       "      <td>51.939979</td>\n",
       "      <td>68.814309</td>\n",
       "      <td>18.796623</td>\n",
       "      <td>Level 2</td>\n",
       "    </tr>\n",
       "    <tr>\n",
       "      <th>170</th>\n",
       "      <td>Tesla Model 3</td>\n",
       "      <td>Houston</td>\n",
       "      <td>Night</td>\n",
       "      <td>27.645446</td>\n",
       "      <td>90.299923</td>\n",
       "      <td>18.405333</td>\n",
       "      <td>Level 2</td>\n",
       "    </tr>\n",
       "  </tbody>\n",
       "</table>\n",
       "<p>264 rows × 7 columns</p>\n",
       "</div>"
      ],
      "text/plain": [
       "      Vehicle Model Charging Station Location Time of Day  \\\n",
       "678    Hyundai Kona                  New York     Morning   \n",
       "693   Tesla Model 3                   Houston       Night   \n",
       "610   Tesla Model 3             San Francisco     Evening   \n",
       "49           BMW i3                  New York   Afternoon   \n",
       "1291         BMW i3                   Chicago     Evening   \n",
       "...             ...                       ...         ...   \n",
       "1013  Tesla Model 3                  New York     Evening   \n",
       "1003         BMW i3             San Francisco     Morning   \n",
       "952          BMW i3               Los Angeles     Morning   \n",
       "542     Nissan Leaf               Los Angeles       Night   \n",
       "170   Tesla Model 3                   Houston       Night   \n",
       "\n",
       "      State of Charge (Start %)  State of Charge (End %)  Temperature (°C)  \\\n",
       "678                   79.030929                53.996989         37.345873   \n",
       "693                   74.877488                94.073569         28.419941   \n",
       "610                   30.228182                80.043745         11.712170   \n",
       "49                    27.196196                86.893918          5.378080   \n",
       "1291                  39.914802                53.246014          0.710858   \n",
       "...                         ...                      ...               ...   \n",
       "1013                  30.427475                87.877269         -9.554707   \n",
       "1003                  89.039529                98.831055         37.902021   \n",
       "952                   81.483886                83.173005         23.156295   \n",
       "542                   51.939979                68.814309         18.796623   \n",
       "170                   27.645446                90.299923         18.405333   \n",
       "\n",
       "     Charger Type  \n",
       "678       Level 2  \n",
       "693       Level 1  \n",
       "610       Level 1  \n",
       "49        Level 2  \n",
       "1291      Level 2  \n",
       "...           ...  \n",
       "1013      Level 2  \n",
       "1003      Level 1  \n",
       "952       Level 1  \n",
       "542       Level 2  \n",
       "170       Level 2  \n",
       "\n",
       "[264 rows x 7 columns]"
      ]
     },
     "execution_count": 76,
     "metadata": {},
     "output_type": "execute_result"
    }
   ],
   "source": [
    "test_input"
   ]
  },
  {
   "cell_type": "code",
   "execution_count": 77,
   "id": "39a0dc02-87d6-4c57-bf02-95c0d8f380b1",
   "metadata": {},
   "outputs": [],
   "source": [
    "test_labels = test[\"Charging Duration (hours)\"].copy()"
   ]
  },
  {
   "cell_type": "code",
   "execution_count": 78,
   "id": "c52fd254-f8b0-4b51-9e21-b59e55fedc3f",
   "metadata": {},
   "outputs": [
    {
     "data": {
      "text/plain": [
       "678     1.497563\n",
       "693     1.551271\n",
       "610     2.710437\n",
       "49      2.209543\n",
       "1291    2.768766\n",
       "          ...   \n",
       "1013    1.088668\n",
       "1003    2.711851\n",
       "952     2.392843\n",
       "542     2.661668\n",
       "170     0.984549\n",
       "Name: Charging Duration (hours), Length: 264, dtype: float64"
      ]
     },
     "execution_count": 78,
     "metadata": {},
     "output_type": "execute_result"
    }
   ],
   "source": [
    "test_labels"
   ]
  },
  {
   "cell_type": "code",
   "execution_count": 79,
   "id": "faba3594-cb71-4836-a065-34ce0b36fa85",
   "metadata": {},
   "outputs": [],
   "source": [
    "test_prepared = full_pipeline.transform(test_input)"
   ]
  },
  {
   "cell_type": "code",
   "execution_count": 80,
   "id": "7a53cfe2-1f4a-4b5c-baf8-8f59ca1db473",
   "metadata": {},
   "outputs": [
    {
     "data": {
      "text/plain": [
       "array([[ 1.30717674, -1.30408635,  1.46148373, ...,  0.        ,\n",
       "         0.        ,  1.        ],\n",
       "       [ 1.12845288,  1.26157697,  0.86429266, ...,  0.        ,\n",
       "         1.        ,  0.        ],\n",
       "       [-0.7928207 ,  0.36340136, -0.25354373, ...,  0.        ,\n",
       "         1.        ,  0.        ],\n",
       "       ...,\n",
       "       [ 1.41272827,  0.56373353,  0.51212749, ...,  0.        ,\n",
       "         1.        ,  0.        ],\n",
       "       [ 0.14144469, -0.35549609,  0.22044285, ...,  0.        ,\n",
       "         0.        ,  1.        ],\n",
       "       [-0.90395663,  1.01999181,  0.19426355, ...,  0.        ,\n",
       "         0.        ,  1.        ]], shape=(264, 20))"
      ]
     },
     "execution_count": 80,
     "metadata": {},
     "output_type": "execute_result"
    }
   ],
   "source": [
    "test_prepared"
   ]
  },
  {
   "cell_type": "code",
   "execution_count": 81,
   "id": "b3c2f46b-9a86-46de-a490-70d6bcab43f8",
   "metadata": {},
   "outputs": [],
   "source": [
    "test_pred = forest_reg.predict(test_prepared)"
   ]
  },
  {
   "cell_type": "code",
   "execution_count": 82,
   "id": "6f9f5bd0-01c1-41c9-a349-8f0d5e6e8558",
   "metadata": {},
   "outputs": [
    {
     "data": {
      "text/plain": [
       "array([2.07812367, 2.2516659 , 2.20390819, 1.93701591, 2.55321784,\n",
       "       2.46000836, 2.47240448, 2.60097718, 2.15226962])"
      ]
     },
     "execution_count": 82,
     "metadata": {},
     "output_type": "execute_result"
    }
   ],
   "source": [
    "test_pred[1:10]"
   ]
  },
  {
   "cell_type": "code",
   "execution_count": 83,
   "id": "a1d88c38-e866-4e1d-b1ef-88fda7d358ec",
   "metadata": {},
   "outputs": [
    {
     "data": {
      "text/plain": [
       "[1.551271282498898,\n",
       " 2.710437199046852,\n",
       " 2.2095428234972503,\n",
       " 2.768766275908739,\n",
       " 2.1044905591572047,\n",
       " 2.014009927511727,\n",
       " 2.91425796993607,\n",
       " 1.0288186666188504,\n",
       " 1.666889947193717]"
      ]
     },
     "execution_count": 83,
     "metadata": {},
     "output_type": "execute_result"
    }
   ],
   "source": [
    "list(test_labels)[1:10]"
   ]
  },
  {
   "cell_type": "code",
   "execution_count": 84,
   "id": "b4aba7d6-dd12-4392-8b50-1da30bf2cbdc",
   "metadata": {},
   "outputs": [],
   "source": [
    "test_score = r2_score( test_labels, test_pred,)"
   ]
  },
  {
   "cell_type": "code",
   "execution_count": 85,
   "id": "c988ef78-6e75-4a1c-a8d5-4b7e6f3a980b",
   "metadata": {},
   "outputs": [
    {
     "data": {
      "text/plain": [
       "-0.07666815885778133"
      ]
     },
     "execution_count": 85,
     "metadata": {},
     "output_type": "execute_result"
    }
   ],
   "source": [
    "test_score"
   ]
  },
  {
   "cell_type": "code",
   "execution_count": 86,
   "id": "7a4d5c0d-3749-47a1-9486-1d935bae5d27",
   "metadata": {},
   "outputs": [],
   "source": [
    "import pickle"
   ]
  },
  {
   "cell_type": "raw",
   "id": "7545f1c0-275c-4895-a7e8-3355bd80c396",
   "metadata": {},
   "source": [
    "with open(\"charging_hours.pkl\", \"wb\") as file:\n",
    "    pickle.dump(forest_reg, file)"
   ]
  },
  {
   "cell_type": "raw",
   "id": "fb7d4d39-6d06-4ba1-990a-e8a837a4fbd1",
   "metadata": {},
   "source": [
    "with open(\"pipeline_charging_hours.pkl\", \"wb\") as file:\n",
    "    pickle.dump(full_pipeline, file)"
   ]
  },
  {
   "cell_type": "markdown",
   "id": "40608700-0b13-443f-b3dd-f7939b6215c4",
   "metadata": {},
   "source": [
    "## ReTraining the model"
   ]
  },
  {
   "cell_type": "markdown",
   "id": "e94778e6-e390-4a52-a641-de2c2480c1f7",
   "metadata": {},
   "source": [
    "COLUMNS TO USE FOR THIS TASK:\n",
    "\n",
    "- Vehicle Model\n",
    "- Charging Duration (hours)\n",
    "- Time of Day\n",
    "- State of Charge (Start %)\n",
    "- State of Charge (End %)\n",
    "- Temperature (°C)\n",
    "- Charger Type"
   ]
  },
  {
   "cell_type": "code",
   "execution_count": 190,
   "id": "826c88cb-a0bf-4f2c-8ba9-ec5c95415b4c",
   "metadata": {},
   "outputs": [],
   "source": [
    "data_ver2 = data[[\"Vehicle Model\",\n",
    "\"Charging Duration (hours)\",\n",
    "\"State of Charge (Start %)\",\n",
    "\"State of Charge (End %)\",\n",
    "\"Temperature (°C)\",               \n",
    "\"Charger Type\"]]"
   ]
  },
  {
   "cell_type": "code",
   "execution_count": 191,
   "id": "f45776fe-42ca-4d0c-9b79-9d48d4b6c979",
   "metadata": {},
   "outputs": [
    {
     "data": {
      "text/html": [
       "<div>\n",
       "<style scoped>\n",
       "    .dataframe tbody tr th:only-of-type {\n",
       "        vertical-align: middle;\n",
       "    }\n",
       "\n",
       "    .dataframe tbody tr th {\n",
       "        vertical-align: top;\n",
       "    }\n",
       "\n",
       "    .dataframe thead th {\n",
       "        text-align: right;\n",
       "    }\n",
       "</style>\n",
       "<table border=\"1\" class=\"dataframe\">\n",
       "  <thead>\n",
       "    <tr style=\"text-align: right;\">\n",
       "      <th></th>\n",
       "      <th>Vehicle Model</th>\n",
       "      <th>Charging Duration (hours)</th>\n",
       "      <th>State of Charge (Start %)</th>\n",
       "      <th>State of Charge (End %)</th>\n",
       "      <th>Temperature (°C)</th>\n",
       "      <th>Charger Type</th>\n",
       "    </tr>\n",
       "  </thead>\n",
       "  <tbody>\n",
       "    <tr>\n",
       "      <th>0</th>\n",
       "      <td>BMW i3</td>\n",
       "      <td>0.591363</td>\n",
       "      <td>29.371576</td>\n",
       "      <td>86.119962</td>\n",
       "      <td>27.947953</td>\n",
       "      <td>DC Fast Charger</td>\n",
       "    </tr>\n",
       "    <tr>\n",
       "      <th>1</th>\n",
       "      <td>Hyundai Kona</td>\n",
       "      <td>3.133652</td>\n",
       "      <td>10.115778</td>\n",
       "      <td>84.664344</td>\n",
       "      <td>14.311026</td>\n",
       "      <td>Level 1</td>\n",
       "    </tr>\n",
       "    <tr>\n",
       "      <th>2</th>\n",
       "      <td>Chevy Bolt</td>\n",
       "      <td>2.452653</td>\n",
       "      <td>6.854604</td>\n",
       "      <td>69.917615</td>\n",
       "      <td>21.002002</td>\n",
       "      <td>Level 2</td>\n",
       "    </tr>\n",
       "    <tr>\n",
       "      <th>3</th>\n",
       "      <td>Hyundai Kona</td>\n",
       "      <td>1.266431</td>\n",
       "      <td>83.120003</td>\n",
       "      <td>99.624328</td>\n",
       "      <td>38.316313</td>\n",
       "      <td>Level 1</td>\n",
       "    </tr>\n",
       "    <tr>\n",
       "      <th>4</th>\n",
       "      <td>Hyundai Kona</td>\n",
       "      <td>2.019765</td>\n",
       "      <td>54.258950</td>\n",
       "      <td>63.743786</td>\n",
       "      <td>-7.834199</td>\n",
       "      <td>Level 1</td>\n",
       "    </tr>\n",
       "  </tbody>\n",
       "</table>\n",
       "</div>"
      ],
      "text/plain": [
       "  Vehicle Model  Charging Duration (hours)  State of Charge (Start %)  \\\n",
       "0        BMW i3                   0.591363                  29.371576   \n",
       "1  Hyundai Kona                   3.133652                  10.115778   \n",
       "2    Chevy Bolt                   2.452653                   6.854604   \n",
       "3  Hyundai Kona                   1.266431                  83.120003   \n",
       "4  Hyundai Kona                   2.019765                  54.258950   \n",
       "\n",
       "   State of Charge (End %)  Temperature (°C)     Charger Type  \n",
       "0                86.119962         27.947953  DC Fast Charger  \n",
       "1                84.664344         14.311026          Level 1  \n",
       "2                69.917615         21.002002          Level 2  \n",
       "3                99.624328         38.316313          Level 1  \n",
       "4                63.743786         -7.834199          Level 1  "
      ]
     },
     "execution_count": 191,
     "metadata": {},
     "output_type": "execute_result"
    }
   ],
   "source": [
    "data_ver2.head()"
   ]
  },
  {
   "cell_type": "markdown",
   "id": "cb47dfba-f09c-4c9c-8e9b-8d29c961728d",
   "metadata": {},
   "source": [
    "## Train-Test Split"
   ]
  },
  {
   "cell_type": "code",
   "execution_count": 192,
   "id": "46ffe757-cd78-4326-bb8b-e402735c9799",
   "metadata": {},
   "outputs": [],
   "source": [
    "from sklearn.model_selection import train_test_split"
   ]
  },
  {
   "cell_type": "code",
   "execution_count": 193,
   "id": "3b4ba257-13f0-4108-9b48-01934c8a4956",
   "metadata": {},
   "outputs": [],
   "source": [
    "train_v2, test_v2 = train_test_split(data_ver2, test_size = 0.2, random_state = 42)"
   ]
  },
  {
   "cell_type": "code",
   "execution_count": 194,
   "id": "7d2514f5-3fd2-42f1-88e7-fe281da77267",
   "metadata": {},
   "outputs": [
    {
     "data": {
      "text/plain": [
       "(1056, 6)"
      ]
     },
     "execution_count": 194,
     "metadata": {},
     "output_type": "execute_result"
    }
   ],
   "source": [
    "train_v2.shape"
   ]
  },
  {
   "cell_type": "code",
   "execution_count": 195,
   "id": "3ab9c031-c274-443f-8c42-fb05af991fae",
   "metadata": {},
   "outputs": [
    {
     "data": {
      "text/plain": [
       "(264, 6)"
      ]
     },
     "execution_count": 195,
     "metadata": {},
     "output_type": "execute_result"
    }
   ],
   "source": [
    "test_v2.shape"
   ]
  },
  {
   "cell_type": "code",
   "execution_count": 196,
   "id": "e5949d61-8a68-420c-b35f-43e4c4105c3c",
   "metadata": {},
   "outputs": [],
   "source": [
    "ev_v2 = train_v2.drop(\"Charging Duration (hours)\", axis = 1)\n",
    "ev_labels_v2 = train_v2[\"Charging Duration (hours)\"].copy()"
   ]
  },
  {
   "cell_type": "code",
   "execution_count": 197,
   "id": "85b6f284-46f2-46b0-a5a7-74c7190b217e",
   "metadata": {},
   "outputs": [
    {
     "data": {
      "text/plain": [
       "(1056, 5)"
      ]
     },
     "execution_count": 197,
     "metadata": {},
     "output_type": "execute_result"
    }
   ],
   "source": [
    "ev_v2.shape"
   ]
  },
  {
   "cell_type": "markdown",
   "id": "68de8ab6-046c-4c94-99b4-bcb35b125f85",
   "metadata": {},
   "source": [
    "## Preparing data for ML Model"
   ]
  },
  {
   "cell_type": "markdown",
   "id": "d40ebe8e-a78d-4fb3-8296-994d8eb54503",
   "metadata": {},
   "source": [
    "**Checking for Noisy Data in Temperature**"
   ]
  },
  {
   "cell_type": "code",
   "execution_count": 198,
   "id": "970ea4a3-27cb-468b-9bee-aad86744dbab",
   "metadata": {},
   "outputs": [],
   "source": [
    "temp = ev_v2[\"Temperature (°C)\"].apply(lambda x: 50 if x > 50 else x)"
   ]
  },
  {
   "cell_type": "code",
   "execution_count": 199,
   "id": "a72d2fad-0712-460b-bf50-780c2113c1da",
   "metadata": {},
   "outputs": [
    {
     "data": {
      "text/plain": [
       "598     12.387165\n",
       "930      4.269933\n",
       "209     29.561548\n",
       "538     -8.771230\n",
       "140      8.511630\n",
       "          ...    \n",
       "1095     4.975286\n",
       "1130    21.181387\n",
       "1294    26.524155\n",
       "860      3.056173\n",
       "1126    38.588916\n",
       "Name: Temperature (°C), Length: 1051, dtype: float64"
      ]
     },
     "execution_count": 199,
     "metadata": {},
     "output_type": "execute_result"
    }
   ],
   "source": [
    "temp[temp < 50]"
   ]
  },
  {
   "cell_type": "code",
   "execution_count": 200,
   "id": "e2f23dde-be0d-432f-8f17-d3baa9351bef",
   "metadata": {},
   "outputs": [],
   "source": [
    "ev_v2[\"Temperature (°C)\"] = ev_v2[\"Temperature (°C)\"].apply(lambda x: 50 if x > 50 else x)"
   ]
  },
  {
   "cell_type": "code",
   "execution_count": 201,
   "id": "41bdf01e-495a-4b4b-bac6-7a5acff8f496",
   "metadata": {},
   "outputs": [
    {
     "data": {
      "text/plain": [
       "<Axes: >"
      ]
     },
     "execution_count": 201,
     "metadata": {},
     "output_type": "execute_result"
    },
    {
     "data": {
      "image/png": "[encoded data removed]",
      "text/plain": [
       "<Figure size 640x480 with 1 Axes>"
      ]
     },
     "metadata": {},
     "output_type": "display_data"
    }
   ],
   "source": [
    "ev_v2[\"Temperature (°C)\"].hist()"
   ]
  },
  {
   "cell_type": "code",
   "execution_count": 202,
   "id": "70eff132-a7e4-4a25-a9ac-bb4e8bed7282",
   "metadata": {},
   "outputs": [],
   "source": [
    "ev_v2[\"Temperature (°C)\"] = ev_v2[\"Temperature (°C)\"].apply(lambda x: 0 if x < 0 else x)"
   ]
  },
  {
   "cell_type": "code",
   "execution_count": 203,
   "id": "1ea779cb-d871-4296-b12f-719cabe8b30b",
   "metadata": {},
   "outputs": [
    {
     "data": {
      "text/plain": [
       "<Axes: >"
      ]
     },
     "execution_count": 203,
     "metadata": {},
     "output_type": "execute_result"
    },
    {
     "data": {
      "image/png": "[encoded data removed]",
      "text/plain": [
       "<Figure size 640x480 with 1 Axes>"
      ]
     },
     "metadata": {},
     "output_type": "display_data"
    }
   ],
   "source": [
    "ev_v2[\"Temperature (°C)\"].hist()"
   ]
  },
  {
   "cell_type": "markdown",
   "id": "5239ec9d-bc8b-4e95-9c54-63305723d1b5",
   "metadata": {},
   "source": [
    "**Checking for Noisy Data in State of Charge (Start %)**"
   ]
  },
  {
   "cell_type": "code",
   "execution_count": 204,
   "id": "8f616dd5-22a4-479d-8a02-9e39c7ce26d2",
   "metadata": {},
   "outputs": [],
   "source": [
    "ev_v2[\"State of Charge (Start %)\"] = ev_v2[\"State of Charge (Start %)\"].apply(lambda x: 100 if x > 100 else x)"
   ]
  },
  {
   "cell_type": "code",
   "execution_count": 205,
   "id": "984afac0-44f8-43aa-8162-1402aae1bb50",
   "metadata": {},
   "outputs": [
    {
     "data": {
      "text/plain": [
       "<Axes: >"
      ]
     },
     "execution_count": 205,
     "metadata": {},
     "output_type": "execute_result"
    },
    {
     "data": {
      "image/png": "[encoded data removed]",
      "text/plain": [
       "<Figure size 640x480 with 1 Axes>"
      ]
     },
     "metadata": {},
     "output_type": "display_data"
    }
   ],
   "source": [
    "ev_v2[\"State of Charge (Start %)\"].hist()"
   ]
  },
  {
   "cell_type": "markdown",
   "id": "87b83c4f-6d87-4ae8-97bf-f43caa97dbe7",
   "metadata": {},
   "source": [
    "**Checking for Noisy Data in State of Charge (End %)**"
   ]
  },
  {
   "cell_type": "code",
   "execution_count": 206,
   "id": "df4e9fe8-7131-4d57-a430-68e1247ef360",
   "metadata": {},
   "outputs": [],
   "source": [
    "ev_v2[\"State of Charge (End %)\"] = ev_v2[\"State of Charge (End %)\"].apply(lambda x: 100 if x > 100 else x)"
   ]
  },
  {
   "cell_type": "code",
   "execution_count": 207,
   "id": "424a4d86-5b91-4577-850b-7a7ac7173477",
   "metadata": {},
   "outputs": [
    {
     "data": {
      "text/plain": [
       "<Axes: >"
      ]
     },
     "execution_count": 207,
     "metadata": {},
     "output_type": "execute_result"
    },
    {
     "data": {
      "image/png": "[encoded data removed]",
      "text/plain": [
       "<Figure size 640x480 with 1 Axes>"
      ]
     },
     "metadata": {},
     "output_type": "display_data"
    }
   ],
   "source": [
    "ev_v2[\"State of Charge (End %)\"].hist()"
   ]
  },
  {
   "cell_type": "markdown",
   "id": "b1d9d98e-cd5d-4d56-94a8-886aafb9a154",
   "metadata": {},
   "source": [
    "**ReDefining the num attribs and Categorical attribs**"
   ]
  },
  {
   "cell_type": "code",
   "execution_count": 208,
   "id": "206e092a-2549-41d4-9576-943f7c14b98a",
   "metadata": {},
   "outputs": [],
   "source": [
    "num_attribs_v2 = [\"State of Charge (Start %)\", \"State of Charge (End %)\", \"Temperature (°C)\"]"
   ]
  },
  {
   "cell_type": "code",
   "execution_count": 209,
   "id": "1c3005f7-3253-4457-91a1-08e3c742cc72",
   "metadata": {},
   "outputs": [],
   "source": [
    "cat_attribs_v2 = [\"Vehicle Model\", \"Charger Type\"]"
   ]
  },
  {
   "cell_type": "code",
   "execution_count": 210,
   "id": "a038f4fd-309a-4c7d-bc78-5c5f4d10c39e",
   "metadata": {},
   "outputs": [],
   "source": [
    "full_pipeline_v2 = ColumnTransformer([\n",
    "    (\"num\", num_pipeline, num_attribs_v2),\n",
    "    (\"cat\", OneHotEncoder(), cat_attribs_v2),\n",
    "]\n",
    ")"
   ]
  },
  {
   "cell_type": "code",
   "execution_count": 211,
   "id": "56c0e410-5906-4881-a889-65aaee4e87e7",
   "metadata": {},
   "outputs": [],
   "source": [
    "ev_v2_prepared = full_pipeline_v2.fit_transform(ev_v2)"
   ]
  },
  {
   "cell_type": "markdown",
   "id": "79503570-b8e1-4604-963f-592f845b29e8",
   "metadata": {},
   "source": [
    "## Training the model"
   ]
  },
  {
   "cell_type": "code",
   "execution_count": 212,
   "id": "d13aee24-fc5b-43cf-af50-73c818593da9",
   "metadata": {},
   "outputs": [],
   "source": [
    "forest_reg_v2 = RandomForestRegressor()"
   ]
  },
  {
   "cell_type": "code",
   "execution_count": 213,
   "id": "0a5cee8f-c941-4350-bae4-8d8a9a20877e",
   "metadata": {},
   "outputs": [
    {
     "data": {
      "text/html": [
       "<style>#sk-container-id-4 {\n",
       "  /* Definition of color scheme common for light and dark mode */\n",
       "  --sklearn-color-text: #000;\n",
       "  --sklearn-color-text-muted: #666;\n",
       "  --sklearn-color-line: gray;\n",
       "  /* Definition of color scheme for unfitted estimators */\n",
       "  --sklearn-color-unfitted-level-0: #fff5e6;\n",
       "  --sklearn-color-unfitted-level-1: #f6e4d2;\n",
       "  --sklearn-color-unfitted-level-2: #ffe0b3;\n",
       "  --sklearn-color-unfitted-level-3: chocolate;\n",
       "  /* Definition of color scheme for fitted estimators */\n",
       "  --sklearn-color-fitted-level-0: #f0f8ff;\n",
       "  --sklearn-color-fitted-level-1: #d4ebff;\n",
       "  --sklearn-color-fitted-level-2: #b3dbfd;\n",
       "  --sklearn-color-fitted-level-3: cornflowerblue;\n",
       "\n",
       "  /* Specific color for light theme */\n",
       "  --sklearn-color-text-on-default-background: var(--sg-text-color, var(--theme-code-foreground, var(--jp-content-font-color1, black)));\n",
       "  --sklearn-color-background: var(--sg-background-color, var(--theme-background, var(--jp-layout-color0, white)));\n",
       "  --sklearn-color-border-box: var(--sg-text-color, var(--theme-code-foreground, var(--jp-content-font-color1, black)));\n",
       "  --sklearn-color-icon: #696969;\n",
       "\n",
       "  @media (prefers-color-scheme: dark) {\n",
       "    /* Redefinition of color scheme for dark theme */\n",
       "    --sklearn-color-text-on-default-background: var(--sg-text-color, var(--theme-code-foreground, var(--jp-content-font-color1, white)));\n",
       "    --sklearn-color-background: var(--sg-background-color, var(--theme-background, var(--jp-layout-color0, #111)));\n",
       "    --sklearn-color-border-box: var(--sg-text-color, var(--theme-code-foreground, var(--jp-content-font-color1, white)));\n",
       "    --sklearn-color-icon: #878787;\n",
       "  }\n",
       "}\n",
       "\n",
       "#sk-container-id-4 {\n",
       "  color: var(--sklearn-color-text);\n",
       "}\n",
       "\n",
       "#sk-container-id-4 pre {\n",
       "  padding: 0;\n",
       "}\n",
       "\n",
       "#sk-container-id-4 input.sk-hidden--visually {\n",
       "  border: 0;\n",
       "  clip: rect(1px 1px 1px 1px);\n",
       "  clip: rect(1px, 1px, 1px, 1px);\n",
       "  height: 1px;\n",
       "  margin: -1px;\n",
       "  overflow: hidden;\n",
       "  padding: 0;\n",
       "  position: absolute;\n",
       "  width: 1px;\n",
       "}\n",
       "\n",
       "#sk-container-id-4 div.sk-dashed-wrapped {\n",
       "  border: 1px dashed var(--sklearn-color-line);\n",
       "  margin: 0 0.4em 0.5em 0.4em;\n",
       "  box-sizing: border-box;\n",
       "  padding-bottom: 0.4em;\n",
       "  background-color: var(--sklearn-color-background);\n",
       "}\n",
       "\n",
       "#sk-container-id-4 div.sk-container {\n",
       "  /* jupyter's `normalize.less` sets `[hidden] { display: none; }`\n",
       "     but bootstrap.min.css set `[hidden] { display: none !important; }`\n",
       "     so we also need the `!important` here to be able to override the\n",
       "     default hidden behavior on the sphinx rendered scikit-learn.org.\n",
       "     See: https://github.com/scikit-learn/scikit-learn/issues/21755 */\n",
       "  display: inline-block !important;\n",
       "  position: relative;\n",
       "}\n",
       "\n",
       "#sk-container-id-4 div.sk-text-repr-fallback {\n",
       "  display: none;\n",
       "}\n",
       "\n",
       "div.sk-parallel-item,\n",
       "div.sk-serial,\n",
       "div.sk-item {\n",
       "  /* draw centered vertical line to link estimators */\n",
       "  background-image: linear-gradient(var(--sklearn-color-text-on-default-background), var(--sklearn-color-text-on-default-background));\n",
       "  background-size: 2px 100%;\n",
       "  background-repeat: no-repeat;\n",
       "  background-position: center center;\n",
       "}\n",
       "\n",
       "/* Parallel-specific style estimator block */\n",
       "\n",
       "#sk-container-id-4 div.sk-parallel-item::after {\n",
       "  content: \"\";\n",
       "  width: 100%;\n",
       "  border-bottom: 2px solid var(--sklearn-color-text-on-default-background);\n",
       "  flex-grow: 1;\n",
       "}\n",
       "\n",
       "#sk-container-id-4 div.sk-parallel {\n",
       "  display: flex;\n",
       "  align-items: stretch;\n",
       "  justify-content: center;\n",
       "  background-color: var(--sklearn-color-background);\n",
       "  position: relative;\n",
       "}\n",
       "\n",
       "#sk-container-id-4 div.sk-parallel-item {\n",
       "  display: flex;\n",
       "  flex-direction: column;\n",
       "}\n",
       "\n",
       "#sk-container-id-4 div.sk-parallel-item:first-child::after {\n",
       "  align-self: flex-end;\n",
       "  width: 50%;\n",
       "}\n",
       "\n",
       "#sk-container-id-4 div.sk-parallel-item:last-child::after {\n",
       "  align-self: flex-start;\n",
       "  width: 50%;\n",
       "}\n",
       "\n",
       "#sk-container-id-4 div.sk-parallel-item:only-child::after {\n",
       "  width: 0;\n",
       "}\n",
       "\n",
       "/* Serial-specific style estimator block */\n",
       "\n",
       "#sk-container-id-4 div.sk-serial {\n",
       "  display: flex;\n",
       "  flex-direction: column;\n",
       "  align-items: center;\n",
       "  background-color: var(--sklearn-color-background);\n",
       "  padding-right: 1em;\n",
       "  padding-left: 1em;\n",
       "}\n",
       "\n",
       "\n",
       "/* Toggleable style: style used for estimator/Pipeline/ColumnTransformer box that is\n",
       "clickable and can be expanded/collapsed.\n",
       "- Pipeline and ColumnTransformer use this feature and define the default style\n",
       "- Estimators will overwrite some part of the style using the `sk-estimator` class\n",
       "*/\n",
       "\n",
       "/* Pipeline and ColumnTransformer style (default) */\n",
       "\n",
       "#sk-container-id-4 div.sk-toggleable {\n",
       "  /* Default theme specific background. It is overwritten whether we have a\n",
       "  specific estimator or a Pipeline/ColumnTransformer */\n",
       "  background-color: var(--sklearn-color-background);\n",
       "}\n",
       "\n",
       "/* Toggleable label */\n",
       "#sk-container-id-4 label.sk-toggleable__label {\n",
       "  cursor: pointer;\n",
       "  display: flex;\n",
       "  width: 100%;\n",
       "  margin-bottom: 0;\n",
       "  padding: 0.5em;\n",
       "  box-sizing: border-box;\n",
       "  text-align: center;\n",
       "  align-items: start;\n",
       "  justify-content: space-between;\n",
       "  gap: 0.5em;\n",
       "}\n",
       "\n",
       "#sk-container-id-4 label.sk-toggleable__label .caption {\n",
       "  font-size: 0.6rem;\n",
       "  font-weight: lighter;\n",
       "  color: var(--sklearn-color-text-muted);\n",
       "}\n",
       "\n",
       "#sk-container-id-4 label.sk-toggleable__label-arrow:before {\n",
       "  /* Arrow on the left of the label */\n",
       "  content: \"▸\";\n",
       "  float: left;\n",
       "  margin-right: 0.25em;\n",
       "  color: var(--sklearn-color-icon);\n",
       "}\n",
       "\n",
       "#sk-container-id-4 label.sk-toggleable__label-arrow:hover:before {\n",
       "  color: var(--sklearn-color-text);\n",
       "}\n",
       "\n",
       "/* Toggleable content - dropdown */\n",
       "\n",
       "#sk-container-id-4 div.sk-toggleable__content {\n",
       "  max-height: 0;\n",
       "  max-width: 0;\n",
       "  overflow: hidden;\n",
       "  text-align: left;\n",
       "  /* unfitted */\n",
       "  background-color: var(--sklearn-color-unfitted-level-0);\n",
       "}\n",
       "\n",
       "#sk-container-id-4 div.sk-toggleable__content.fitted {\n",
       "  /* fitted */\n",
       "  background-color: var(--sklearn-color-fitted-level-0);\n",
       "}\n",
       "\n",
       "#sk-container-id-4 div.sk-toggleable__content pre {\n",
       "  margin: 0.2em;\n",
       "  border-radius: 0.25em;\n",
       "  color: var(--sklearn-color-text);\n",
       "  /* unfitted */\n",
       "  background-color: var(--sklearn-color-unfitted-level-0);\n",
       "}\n",
       "\n",
       "#sk-container-id-4 div.sk-toggleable__content.fitted pre {\n",
       "  /* unfitted */\n",
       "  background-color: var(--sklearn-color-fitted-level-0);\n",
       "}\n",
       "\n",
       "#sk-container-id-4 input.sk-toggleable__control:checked~div.sk-toggleable__content {\n",
       "  /* Expand drop-down */\n",
       "  max-height: 200px;\n",
       "  max-width: 100%;\n",
       "  overflow: auto;\n",
       "}\n",
       "\n",
       "#sk-container-id-4 input.sk-toggleable__control:checked~label.sk-toggleable__label-arrow:before {\n",
       "  content: \"▾\";\n",
       "}\n",
       "\n",
       "/* Pipeline/ColumnTransformer-specific style */\n",
       "\n",
       "#sk-container-id-4 div.sk-label input.sk-toggleable__control:checked~label.sk-toggleable__label {\n",
       "  color: var(--sklearn-color-text);\n",
       "  background-color: var(--sklearn-color-unfitted-level-2);\n",
       "}\n",
       "\n",
       "#sk-container-id-4 div.sk-label.fitted input.sk-toggleable__control:checked~label.sk-toggleable__label {\n",
       "  background-color: var(--sklearn-color-fitted-level-2);\n",
       "}\n",
       "\n",
       "/* Estimator-specific style */\n",
       "\n",
       "/* Colorize estimator box */\n",
       "#sk-container-id-4 div.sk-estimator input.sk-toggleable__control:checked~label.sk-toggleable__label {\n",
       "  /* unfitted */\n",
       "  background-color: var(--sklearn-color-unfitted-level-2);\n",
       "}\n",
       "\n",
       "#sk-container-id-4 div.sk-estimator.fitted input.sk-toggleable__control:checked~label.sk-toggleable__label {\n",
       "  /* fitted */\n",
       "  background-color: var(--sklearn-color-fitted-level-2);\n",
       "}\n",
       "\n",
       "#sk-container-id-4 div.sk-label label.sk-toggleable__label,\n",
       "#sk-container-id-4 div.sk-label label {\n",
       "  /* The background is the default theme color */\n",
       "  color: var(--sklearn-color-text-on-default-background);\n",
       "}\n",
       "\n",
       "/* On hover, darken the color of the background */\n",
       "#sk-container-id-4 div.sk-label:hover label.sk-toggleable__label {\n",
       "  color: var(--sklearn-color-text);\n",
       "  background-color: var(--sklearn-color-unfitted-level-2);\n",
       "}\n",
       "\n",
       "/* Label box, darken color on hover, fitted */\n",
       "#sk-container-id-4 div.sk-label.fitted:hover label.sk-toggleable__label.fitted {\n",
       "  color: var(--sklearn-color-text);\n",
       "  background-color: var(--sklearn-color-fitted-level-2);\n",
       "}\n",
       "\n",
       "/* Estimator label */\n",
       "\n",
       "#sk-container-id-4 div.sk-label label {\n",
       "  font-family: monospace;\n",
       "  font-weight: bold;\n",
       "  display: inline-block;\n",
       "  line-height: 1.2em;\n",
       "}\n",
       "\n",
       "#sk-container-id-4 div.sk-label-container {\n",
       "  text-align: center;\n",
       "}\n",
       "\n",
       "/* Estimator-specific */\n",
       "#sk-container-id-4 div.sk-estimator {\n",
       "  font-family: monospace;\n",
       "  border: 1px dotted var(--sklearn-color-border-box);\n",
       "  border-radius: 0.25em;\n",
       "  box-sizing: border-box;\n",
       "  margin-bottom: 0.5em;\n",
       "  /* unfitted */\n",
       "  background-color: var(--sklearn-color-unfitted-level-0);\n",
       "}\n",
       "\n",
       "#sk-container-id-4 div.sk-estimator.fitted {\n",
       "  /* fitted */\n",
       "  background-color: var(--sklearn-color-fitted-level-0);\n",
       "}\n",
       "\n",
       "/* on hover */\n",
       "#sk-container-id-4 div.sk-estimator:hover {\n",
       "  /* unfitted */\n",
       "  background-color: var(--sklearn-color-unfitted-level-2);\n",
       "}\n",
       "\n",
       "#sk-container-id-4 div.sk-estimator.fitted:hover {\n",
       "  /* fitted */\n",
       "  background-color: var(--sklearn-color-fitted-level-2);\n",
       "}\n",
       "\n",
       "/* Specification for estimator info (e.g. \"i\" and \"?\") */\n",
       "\n",
       "/* Common style for \"i\" and \"?\" */\n",
       "\n",
       ".sk-estimator-doc-link,\n",
       "a:link.sk-estimator-doc-link,\n",
       "a:visited.sk-estimator-doc-link {\n",
       "  float: right;\n",
       "  font-size: smaller;\n",
       "  line-height: 1em;\n",
       "  font-family: monospace;\n",
       "  background-color: var(--sklearn-color-background);\n",
       "  border-radius: 1em;\n",
       "  height: 1em;\n",
       "  width: 1em;\n",
       "  text-decoration: none !important;\n",
       "  margin-left: 0.5em;\n",
       "  text-align: center;\n",
       "  /* unfitted */\n",
       "  border: var(--sklearn-color-unfitted-level-1) 1pt solid;\n",
       "  color: var(--sklearn-color-unfitted-level-1);\n",
       "}\n",
       "\n",
       ".sk-estimator-doc-link.fitted,\n",
       "a:link.sk-estimator-doc-link.fitted,\n",
       "a:visited.sk-estimator-doc-link.fitted {\n",
       "  /* fitted */\n",
       "  border: var(--sklearn-color-fitted-level-1) 1pt solid;\n",
       "  color: var(--sklearn-color-fitted-level-1);\n",
       "}\n",
       "\n",
       "/* On hover */\n",
       "div.sk-estimator:hover .sk-estimator-doc-link:hover,\n",
       ".sk-estimator-doc-link:hover,\n",
       "div.sk-label-container:hover .sk-estimator-doc-link:hover,\n",
       ".sk-estimator-doc-link:hover {\n",
       "  /* unfitted */\n",
       "  background-color: var(--sklearn-color-unfitted-level-3);\n",
       "  color: var(--sklearn-color-background);\n",
       "  text-decoration: none;\n",
       "}\n",
       "\n",
       "div.sk-estimator.fitted:hover .sk-estimator-doc-link.fitted:hover,\n",
       ".sk-estimator-doc-link.fitted:hover,\n",
       "div.sk-label-container:hover .sk-estimator-doc-link.fitted:hover,\n",
       ".sk-estimator-doc-link.fitted:hover {\n",
       "  /* fitted */\n",
       "  background-color: var(--sklearn-color-fitted-level-3);\n",
       "  color: var(--sklearn-color-background);\n",
       "  text-decoration: none;\n",
       "}\n",
       "\n",
       "/* Span, style for the box shown on hovering the info icon */\n",
       ".sk-estimator-doc-link span {\n",
       "  display: none;\n",
       "  z-index: 9999;\n",
       "  position: relative;\n",
       "  font-weight: normal;\n",
       "  right: .2ex;\n",
       "  padding: .5ex;\n",
       "  margin: .5ex;\n",
       "  width: min-content;\n",
       "  min-width: 20ex;\n",
       "  max-width: 50ex;\n",
       "  color: var(--sklearn-color-text);\n",
       "  box-shadow: 2pt 2pt 4pt #999;\n",
       "  /* unfitted */\n",
       "  background: var(--sklearn-color-unfitted-level-0);\n",
       "  border: .5pt solid var(--sklearn-color-unfitted-level-3);\n",
       "}\n",
       "\n",
       ".sk-estimator-doc-link.fitted span {\n",
       "  /* fitted */\n",
       "  background: var(--sklearn-color-fitted-level-0);\n",
       "  border: var(--sklearn-color-fitted-level-3);\n",
       "}\n",
       "\n",
       ".sk-estimator-doc-link:hover span {\n",
       "  display: block;\n",
       "}\n",
       "\n",
       "/* \"?\"-specific style due to the `<a>` HTML tag */\n",
       "\n",
       "#sk-container-id-4 a.estimator_doc_link {\n",
       "  float: right;\n",
       "  font-size: 1rem;\n",
       "  line-height: 1em;\n",
       "  font-family: monospace;\n",
       "  background-color: var(--sklearn-color-background);\n",
       "  border-radius: 1rem;\n",
       "  height: 1rem;\n",
       "  width: 1rem;\n",
       "  text-decoration: none;\n",
       "  /* unfitted */\n",
       "  color: var(--sklearn-color-unfitted-level-1);\n",
       "  border: var(--sklearn-color-unfitted-level-1) 1pt solid;\n",
       "}\n",
       "\n",
       "#sk-container-id-4 a.estimator_doc_link.fitted {\n",
       "  /* fitted */\n",
       "  border: var(--sklearn-color-fitted-level-1) 1pt solid;\n",
       "  color: var(--sklearn-color-fitted-level-1);\n",
       "}\n",
       "\n",
       "/* On hover */\n",
       "#sk-container-id-4 a.estimator_doc_link:hover {\n",
       "  /* unfitted */\n",
       "  background-color: var(--sklearn-color-unfitted-level-3);\n",
       "  color: var(--sklearn-color-background);\n",
       "  text-decoration: none;\n",
       "}\n",
       "\n",
       "#sk-container-id-4 a.estimator_doc_link.fitted:hover {\n",
       "  /* fitted */\n",
       "  background-color: var(--sklearn-color-fitted-level-3);\n",
       "}\n",
       "</style><div id=\"sk-container-id-4\" class=\"sk-top-container\"><div class=\"sk-text-repr-fallback\"><pre>RandomForestRegressor()</pre><b>In a Jupyter environment, please rerun this cell to show the HTML representation or trust the notebook. <br />On GitHub, the HTML representation is unable to render, please try loading this page with nbviewer.org.</b></div><div class=\"sk-container\" hidden><div class=\"sk-item\"><div class=\"sk-estimator fitted sk-toggleable\"><input class=\"sk-toggleable__control sk-hidden--visually\" id=\"sk-estimator-id-4\" type=\"checkbox\" checked><label for=\"sk-estimator-id-4\" class=\"sk-toggleable__label fitted sk-toggleable__label-arrow\"><div><div>RandomForestRegressor</div></div><div><a class=\"sk-estimator-doc-link fitted\" rel=\"noreferrer\" target=\"_blank\" href=\"https://scikit-learn.org/1.6/modules/generated/sklearn.ensemble.RandomForestRegressor.html\">?<span>Documentation for RandomForestRegressor</span></a><span class=\"sk-estimator-doc-link fitted\">i<span>Fitted</span></span></div></label><div class=\"sk-toggleable__content fitted\"><pre>RandomForestRegressor()</pre></div> </div></div></div></div>"
      ],
      "text/plain": [
       "RandomForestRegressor()"
      ]
     },
     "execution_count": 213,
     "metadata": {},
     "output_type": "execute_result"
    }
   ],
   "source": [
    "forest_reg_v2.fit(ev_v2_prepared, ev_labels_v2)"
   ]
  },
  {
   "cell_type": "code",
   "execution_count": 214,
   "id": "e27514dc-28fe-4e97-a068-a0c5bc30a45c",
   "metadata": {},
   "outputs": [],
   "source": [
    "ev_pred_v2 = forest_reg_v2.predict(ev_v2_prepared)"
   ]
  },
  {
   "cell_type": "code",
   "execution_count": 215,
   "id": "800bd80d-c093-4d84-840c-220d05d11af5",
   "metadata": {},
   "outputs": [],
   "source": [
    "score_v2 = r2_score(ev_labels_v2, ev_pred_v2)"
   ]
  },
  {
   "cell_type": "code",
   "execution_count": 216,
   "id": "4e09f55f-b1f7-4570-89c0-40dd9644e923",
   "metadata": {},
   "outputs": [
    {
     "data": {
      "text/plain": [
       "0.8482783514036321"
      ]
     },
     "execution_count": 216,
     "metadata": {},
     "output_type": "execute_result"
    }
   ],
   "source": [
    "score_v2"
   ]
  },
  {
   "cell_type": "markdown",
   "id": "e765da2d-f231-4253-a46a-6bbf18d669be",
   "metadata": {},
   "source": [
    "# Testing on Test Data"
   ]
  },
  {
   "cell_type": "code",
   "execution_count": 217,
   "id": "203fb6ac-f958-473d-b75d-bbf634645db5",
   "metadata": {},
   "outputs": [],
   "source": [
    "test_input_v2 = test_v2.drop(\"Charging Duration (hours)\", axis = 1)"
   ]
  },
  {
   "cell_type": "code",
   "execution_count": 218,
   "id": "f777557b-dab4-4dd5-86d8-7dcb84176254",
   "metadata": {},
   "outputs": [],
   "source": [
    "test_labels_v2 = test_v2[\"Charging Duration (hours)\"].copy()"
   ]
  },
  {
   "cell_type": "code",
   "execution_count": 219,
   "id": "5c997155-746a-45ee-bb12-225fc3be4948",
   "metadata": {},
   "outputs": [],
   "source": [
    "test_prepared_v2 = full_pipeline_v2.transform(test_input_v2)"
   ]
  },
  {
   "cell_type": "code",
   "execution_count": 220,
   "id": "3f7be90e-a2ba-4169-bb7d-69c001487e73",
   "metadata": {},
   "outputs": [],
   "source": [
    "test_pred_v2 = forest_reg_v2.predict(test_prepared_v2)"
   ]
  },
  {
   "cell_type": "code",
   "execution_count": 221,
   "id": "82ca9115-acc4-4cb7-a354-bdedbe042327",
   "metadata": {},
   "outputs": [],
   "source": [
    "test_score_v2 = r2_score(test_labels_v2, test_pred_v2)"
   ]
  },
  {
   "cell_type": "code",
   "execution_count": 222,
   "id": "f6f14d81-f820-4140-9acc-ce7aff1cf6bd",
   "metadata": {},
   "outputs": [
    {
     "data": {
      "text/plain": [
       "-0.031522474312527304"
      ]
     },
     "execution_count": 222,
     "metadata": {},
     "output_type": "execute_result"
    }
   ],
   "source": [
    "test_score_v2"
   ]
  },
  {
   "cell_type": "code",
   "execution_count": 223,
   "id": "8478e5e6-7ac7-4323-b128-03c8fab1812f",
   "metadata": {},
   "outputs": [],
   "source": [
    "with open(\"charging_hours_v2.pkl\", \"wb\") as file:\n",
    "    pickle.dump(forest_reg_v2, file)"
   ]
  },
  {
   "cell_type": "code",
   "execution_count": 224,
   "id": "f6a83055-c3d8-4942-948b-20615873496e",
   "metadata": {},
   "outputs": [],
   "source": [
    "with open(\"pipeline_charging_hours_v2.pkl\", \"wb\") as file:\n",
    "    pickle.dump(full_pipeline_v2, file)"
   ]
  },
  {
   "cell_type": "code",
   "execution_count": null,
   "id": "44d50e9b-6900-4b50-9ae8-de8769078a53",
   "metadata": {},
   "outputs": [],
   "source": []
  }
 ],
 "metadata": {
  "kernelspec": {
   "display_name": "Python 3 (ipykernel)",
   "language": "python",
   "name": "python3"
  },
  "language_info": {
   "codemirror_mode": {
    "name": "ipython",
    "version": 3
   },
   "file_extension": ".py",
   "mimetype": "text/x-python",
   "name": "python",
   "nbconvert_exporter": "python",
   "pygments_lexer": "ipython3",
   "version": "3.13.1"
  }
 },
 "nbformat": 4,
 "nbformat_minor": 5
}
